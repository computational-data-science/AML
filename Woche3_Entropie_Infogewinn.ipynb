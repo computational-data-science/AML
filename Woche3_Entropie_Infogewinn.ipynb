{
 "cells": [
  {
   "cell_type": "code",
   "execution_count": 1,
   "id": "ebe017a2-c972-41af-8e83-89926417f224",
   "metadata": {},
   "outputs": [],
   "source": [
    "import math"
   ]
  },
  {
   "cell_type": "code",
   "execution_count": 2,
   "id": "08c40e4b-24a2-42c0-9dc7-838be5b12643",
   "metadata": {},
   "outputs": [],
   "source": [
    "# Entropie Formel umsetzen\n",
    "def entropy(p):\n",
    "    # Summiere die Entropie für jede Wahrscheinlichkeit, die größer als 0 ist\n",
    "    return -sum(x * math.log2(x) if x > 0 else 0 for x in p)"
   ]
  },
  {
   "cell_type": "code",
   "execution_count": 3,
   "id": "1cf2440d-e07d-4736-af47-4430059f80bf",
   "metadata": {},
   "outputs": [],
   "source": [
    "# Wahrscheinlichkeiten für den Elternknoten\n",
    "p_parent = [16/30, 14/30]  # Wahrscheinlichkeiten der positiven und negativen Instanzen\n",
    "E_parent = entropy(p_parent)  # Entropie des Elternknotens berechnen"
   ]
  },
  {
   "cell_type": "code",
   "execution_count": 4,
   "id": "e6ec4a97-01da-4f06-b531-fee454fbb3cd",
   "metadata": {},
   "outputs": [],
   "source": [
    "# Entropie für das Kind, bei dem das Guthaben weniger als 50K ist\n",
    "p_child1 = [12/13, 1/13]\n",
    "E_child1 = entropy(p_child1)  # Entropie des ersten Kindknotens berechnen"
   ]
  },
  {
   "cell_type": "code",
   "execution_count": 5,
   "id": "da6e8034-ebd9-41c2-bcf7-6d98930f1e66",
   "metadata": {},
   "outputs": [],
   "source": [
    "# Entropie für das Kind, bei dem das Guthaben mehr als 50K ist\n",
    "p_child2 = [4/17, 13/17]\n",
    "E_child2 = entropy(p_child2)  # Entropie des zweiten Kindknotens berechnen"
   ]
  },
  {
   "cell_type": "code",
   "execution_count": 6,
   "id": "a2dacf03-687b-40f8-9cba-03dce2532fe1",
   "metadata": {},
   "outputs": [],
   "source": [
    "# Gewichteter Durchschnitt der Entropie für jeden Knoten\n",
    "total_samples = 30\n",
    "samples_child1 = 13\n",
    "samples_child2 = 17\n",
    "E_balance = (samples_child1 / total_samples) * E_child1 + (samples_child2 / total_samples) * E_child2  # Gewichtete Entropie berechnen"
   ]
  },
  {
   "cell_type": "code",
   "execution_count": 7,
   "id": "c0cd65c2-f1b4-4a85-b0c7-b7b04afdc032",
   "metadata": {},
   "outputs": [],
   "source": [
    "# Informationsgewinn berechnen\n",
    "IG = E_parent - E_balance  # Informationsgewinn vom Split nach Guthaben"
   ]
  },
  {
   "cell_type": "code",
   "execution_count": 8,
   "id": "c28e3eeb-61a1-4428-88f6-f06d725823cf",
   "metadata": {},
   "outputs": [
    {
     "name": "stdout",
     "output_type": "stream",
     "text": [
      "Entropie des Elternknotens: 0.997\n",
      "Entropie des Kindknotens (Guthaben < 50K): 0.391\n",
      "Entropie des Kindknotens (Guthaben > 50K): 0.787\n",
      "Gewichtete durchschnittliche Entropie der Kindknoten: 0.616\n",
      "Informationsgewinn durch Teilung auf Basis von Guthaben: 0.381\n"
     ]
    }
   ],
   "source": [
    "print(f\"Entropie des Elternknotens: {E_parent:.3f}\")\n",
    "print(f\"Entropie des Kindknotens (Guthaben < 50K): {E_child1:.3f}\")\n",
    "print(f\"Entropie des Kindknotens (Guthaben > 50K): {E_child2:.3f}\")\n",
    "print(f\"Gewichtete durchschnittliche Entropie der Kindknoten: {E_balance:.3f}\")\n",
    "print(f\"Informationsgewinn durch Teilung auf Basis von Guthaben: {IG:.3f}\")"
   ]
  },
  {
   "cell_type": "code",
   "execution_count": null,
   "id": "6d52c1df-be28-40ff-8b03-e7611cd03a7a",
   "metadata": {},
   "outputs": [],
   "source": []
  }
 ],
 "metadata": {
  "kernelspec": {
   "display_name": "Python (stamo24)",
   "language": "python",
   "name": "stamo24"
  },
  "language_info": {
   "codemirror_mode": {
    "name": "ipython",
    "version": 3
   },
   "file_extension": ".py",
   "mimetype": "text/x-python",
   "name": "python",
   "nbconvert_exporter": "python",
   "pygments_lexer": "ipython3",
   "version": "3.12.2"
  }
 },
 "nbformat": 4,
 "nbformat_minor": 5
}
