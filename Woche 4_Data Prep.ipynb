{
 "cells": [
  {
   "cell_type": "code",
   "execution_count": 54,
   "id": "0f07333b-42ae-4cbc-9977-2eb4268a34ff",
   "metadata": {},
   "outputs": [],
   "source": [
    "import pandas as pd\n",
    "import numpy as np\n",
    "import seaborn as sns\n",
    "import matplotlib.pyplot as plt\n",
    "from sklearn.linear_model import LinearRegression\n",
    "from sklearn.experimental import enable_iterative_imputer\n",
    "from sklearn.impute import SimpleImputer\n",
    "from sklearn.impute import IterativeImputer\n",
    "from sklearn.preprocessing import OneHotEncoder, LabelEncoder\n",
    "from category_encoders import TargetEncoder\n",
    "from scipy.stats import boxcox, chi2, chi2_contingency\n",
    "from sklearn.preprocessing import StandardScaler, MinMaxScaler\n",
    "from sklearn.feature_selection import RFE, SelectKBest\n",
    "from sklearn.tree import DecisionTreeClassifier\n",
    "from sklearn.model_selection import cross_val_score\n",
    "from itertools import combinations"
   ]
  },
  {
   "cell_type": "code",
   "execution_count": 2,
   "id": "45eba136-652f-4ec7-a455-dc339f5b6631",
   "metadata": {},
   "outputs": [],
   "source": [
    "# Titanic Datensatz laden\n",
    "data = pd.read_csv('train.csv')"
   ]
  },
  {
   "cell_type": "code",
   "execution_count": 3,
   "id": "ae4ba3b9-e1cc-4451-a61e-cb7cb99b476f",
   "metadata": {},
   "outputs": [],
   "source": [
    "#data = sns.load_dataset('titanic')"
   ]
  },
  {
   "cell_type": "code",
   "execution_count": 4,
   "id": "9e366992-9938-41f6-b155-1f3fd216bdd3",
   "metadata": {},
   "outputs": [
    {
     "data": {
      "text/html": [
       "<div>\n",
       "<style scoped>\n",
       "    .dataframe tbody tr th:only-of-type {\n",
       "        vertical-align: middle;\n",
       "    }\n",
       "\n",
       "    .dataframe tbody tr th {\n",
       "        vertical-align: top;\n",
       "    }\n",
       "\n",
       "    .dataframe thead th {\n",
       "        text-align: right;\n",
       "    }\n",
       "</style>\n",
       "<table border=\"1\" class=\"dataframe\">\n",
       "  <thead>\n",
       "    <tr style=\"text-align: right;\">\n",
       "      <th></th>\n",
       "      <th>PassengerId</th>\n",
       "      <th>Survived</th>\n",
       "      <th>Pclass</th>\n",
       "      <th>Name</th>\n",
       "      <th>Sex</th>\n",
       "      <th>Age</th>\n",
       "      <th>SibSp</th>\n",
       "      <th>Parch</th>\n",
       "      <th>Ticket</th>\n",
       "      <th>Fare</th>\n",
       "      <th>Cabin</th>\n",
       "      <th>Embarked</th>\n",
       "    </tr>\n",
       "  </thead>\n",
       "  <tbody>\n",
       "    <tr>\n",
       "      <th>0</th>\n",
       "      <td>1</td>\n",
       "      <td>0</td>\n",
       "      <td>3</td>\n",
       "      <td>Braund, Mr. Owen Harris</td>\n",
       "      <td>male</td>\n",
       "      <td>22.0</td>\n",
       "      <td>1</td>\n",
       "      <td>0</td>\n",
       "      <td>A/5 21171</td>\n",
       "      <td>7.2500</td>\n",
       "      <td>NaN</td>\n",
       "      <td>S</td>\n",
       "    </tr>\n",
       "    <tr>\n",
       "      <th>1</th>\n",
       "      <td>2</td>\n",
       "      <td>1</td>\n",
       "      <td>1</td>\n",
       "      <td>Cumings, Mrs. John Bradley (Florence Briggs Th...</td>\n",
       "      <td>female</td>\n",
       "      <td>38.0</td>\n",
       "      <td>1</td>\n",
       "      <td>0</td>\n",
       "      <td>PC 17599</td>\n",
       "      <td>71.2833</td>\n",
       "      <td>C85</td>\n",
       "      <td>C</td>\n",
       "    </tr>\n",
       "    <tr>\n",
       "      <th>2</th>\n",
       "      <td>3</td>\n",
       "      <td>1</td>\n",
       "      <td>3</td>\n",
       "      <td>Heikkinen, Miss. Laina</td>\n",
       "      <td>female</td>\n",
       "      <td>26.0</td>\n",
       "      <td>0</td>\n",
       "      <td>0</td>\n",
       "      <td>STON/O2. 3101282</td>\n",
       "      <td>7.9250</td>\n",
       "      <td>NaN</td>\n",
       "      <td>S</td>\n",
       "    </tr>\n",
       "    <tr>\n",
       "      <th>3</th>\n",
       "      <td>4</td>\n",
       "      <td>1</td>\n",
       "      <td>1</td>\n",
       "      <td>Futrelle, Mrs. Jacques Heath (Lily May Peel)</td>\n",
       "      <td>female</td>\n",
       "      <td>35.0</td>\n",
       "      <td>1</td>\n",
       "      <td>0</td>\n",
       "      <td>113803</td>\n",
       "      <td>53.1000</td>\n",
       "      <td>C123</td>\n",
       "      <td>S</td>\n",
       "    </tr>\n",
       "    <tr>\n",
       "      <th>4</th>\n",
       "      <td>5</td>\n",
       "      <td>0</td>\n",
       "      <td>3</td>\n",
       "      <td>Allen, Mr. William Henry</td>\n",
       "      <td>male</td>\n",
       "      <td>35.0</td>\n",
       "      <td>0</td>\n",
       "      <td>0</td>\n",
       "      <td>373450</td>\n",
       "      <td>8.0500</td>\n",
       "      <td>NaN</td>\n",
       "      <td>S</td>\n",
       "    </tr>\n",
       "  </tbody>\n",
       "</table>\n",
       "</div>"
      ],
      "text/plain": [
       "   PassengerId  Survived  Pclass  \\\n",
       "0            1         0       3   \n",
       "1            2         1       1   \n",
       "2            3         1       3   \n",
       "3            4         1       1   \n",
       "4            5         0       3   \n",
       "\n",
       "                                                Name     Sex   Age  SibSp  \\\n",
       "0                            Braund, Mr. Owen Harris    male  22.0      1   \n",
       "1  Cumings, Mrs. John Bradley (Florence Briggs Th...  female  38.0      1   \n",
       "2                             Heikkinen, Miss. Laina  female  26.0      0   \n",
       "3       Futrelle, Mrs. Jacques Heath (Lily May Peel)  female  35.0      1   \n",
       "4                           Allen, Mr. William Henry    male  35.0      0   \n",
       "\n",
       "   Parch            Ticket     Fare Cabin Embarked  \n",
       "0      0         A/5 21171   7.2500   NaN        S  \n",
       "1      0          PC 17599  71.2833   C85        C  \n",
       "2      0  STON/O2. 3101282   7.9250   NaN        S  \n",
       "3      0            113803  53.1000  C123        S  \n",
       "4      0            373450   8.0500   NaN        S  "
      ]
     },
     "execution_count": 4,
     "metadata": {},
     "output_type": "execute_result"
    }
   ],
   "source": [
    "data.head()"
   ]
  },
  {
   "cell_type": "markdown",
   "id": "343c2a82-9dd8-429c-b2d4-2bb9999025cd",
   "metadata": {},
   "source": [
    "## 1. Fehlende Werte"
   ]
  },
  {
   "cell_type": "code",
   "execution_count": 5,
   "id": "72a12ba8-673a-41a7-8f33-6e1f52e9d5a0",
   "metadata": {},
   "outputs": [
    {
     "name": "stdout",
     "output_type": "stream",
     "text": [
      "Original Dataset:\n"
     ]
    },
    {
     "data": {
      "text/html": [
       "<div>\n",
       "<style scoped>\n",
       "    .dataframe tbody tr th:only-of-type {\n",
       "        vertical-align: middle;\n",
       "    }\n",
       "\n",
       "    .dataframe tbody tr th {\n",
       "        vertical-align: top;\n",
       "    }\n",
       "\n",
       "    .dataframe thead th {\n",
       "        text-align: right;\n",
       "    }\n",
       "</style>\n",
       "<table border=\"1\" class=\"dataframe\">\n",
       "  <thead>\n",
       "    <tr style=\"text-align: right;\">\n",
       "      <th></th>\n",
       "      <th>Name</th>\n",
       "      <th>Age</th>\n",
       "      <th>TestScore</th>\n",
       "      <th>Grade</th>\n",
       "    </tr>\n",
       "  </thead>\n",
       "  <tbody>\n",
       "    <tr>\n",
       "      <th>0</th>\n",
       "      <td>John</td>\n",
       "      <td>20.0</td>\n",
       "      <td>85.0</td>\n",
       "      <td>A</td>\n",
       "    </tr>\n",
       "    <tr>\n",
       "      <th>1</th>\n",
       "      <td>Alice</td>\n",
       "      <td>NaN</td>\n",
       "      <td>90.0</td>\n",
       "      <td>B</td>\n",
       "    </tr>\n",
       "    <tr>\n",
       "      <th>2</th>\n",
       "      <td>Bob</td>\n",
       "      <td>22.0</td>\n",
       "      <td>NaN</td>\n",
       "      <td>NaN</td>\n",
       "    </tr>\n",
       "    <tr>\n",
       "      <th>3</th>\n",
       "      <td>Emma</td>\n",
       "      <td>19.0</td>\n",
       "      <td>78.0</td>\n",
       "      <td>C</td>\n",
       "    </tr>\n",
       "    <tr>\n",
       "      <th>4</th>\n",
       "      <td>Tom</td>\n",
       "      <td>18.0</td>\n",
       "      <td>92.0</td>\n",
       "      <td>A</td>\n",
       "    </tr>\n",
       "  </tbody>\n",
       "</table>\n",
       "</div>"
      ],
      "text/plain": [
       "    Name   Age  TestScore Grade\n",
       "0   John  20.0       85.0     A\n",
       "1  Alice   NaN       90.0     B\n",
       "2    Bob  22.0        NaN   NaN\n",
       "3   Emma  19.0       78.0     C\n",
       "4    Tom  18.0       92.0     A"
      ]
     },
     "execution_count": 5,
     "metadata": {},
     "output_type": "execute_result"
    }
   ],
   "source": [
    "# Erstellen eines Beispieldatensatzes mit fehlenden Werten\n",
    "dat = {\n",
    "    'Name': ['John', 'Alice', 'Bob', 'Emma', 'Tom'],\n",
    "    'Age': [20, np.nan, 22, 19, 18],\n",
    "    'TestScore': [85, 90, np.nan, 78, 92],\n",
    "    'Grade': ['A', 'B', np.nan, 'C', 'A']\n",
    "}\n",
    "df = pd.DataFrame(dat)\n",
    "\n",
    "print(\"Original Dataset:\")\n",
    "df"
   ]
  },
  {
   "cell_type": "code",
   "execution_count": 6,
   "id": "04f88851-c2a7-4ed7-9f2e-f09adb1ddb8b",
   "metadata": {},
   "outputs": [
    {
     "data": {
      "text/plain": [
       "Name         0\n",
       "Age          1\n",
       "TestScore    1\n",
       "Grade        1\n",
       "dtype: int64"
      ]
     },
     "execution_count": 6,
     "metadata": {},
     "output_type": "execute_result"
    }
   ],
   "source": [
    "# Anzahl fehlender Werte in jeder Spalte anzeigen\n",
    "missing = df.isnull().sum()\n",
    "missing"
   ]
  },
  {
   "cell_type": "code",
   "execution_count": 7,
   "id": "2a606e37-c43d-4939-a815-9d25a2abf4ca",
   "metadata": {},
   "outputs": [
    {
     "data": {
      "text/plain": [
       "PassengerId      0\n",
       "Survived         0\n",
       "Pclass           0\n",
       "Name             0\n",
       "Sex              0\n",
       "Age            177\n",
       "SibSp            0\n",
       "Parch            0\n",
       "Ticket           0\n",
       "Fare             0\n",
       "Cabin          687\n",
       "Embarked         2\n",
       "dtype: int64"
      ]
     },
     "execution_count": 7,
     "metadata": {},
     "output_type": "execute_result"
    }
   ],
   "source": [
    "# Anzahl fehlender Werte in jeder Spalte anzeigen - Titanic Datensatz\n",
    "missing_values = data.isnull().sum()\n",
    "missing_values"
   ]
  },
  {
   "cell_type": "code",
   "execution_count": 8,
   "id": "67e27be5-6dfe-4089-bbfa-8cc223cb2109",
   "metadata": {},
   "outputs": [],
   "source": [
    "# Set a random seed for reproducibility\n",
    "np.random.seed(0)\n",
    "\n",
    "# Choose 20 random indices to set to NaN in the 'Fare' column\n",
    "random_indices = np.random.choice(data.index, size=40, replace=False)\n",
    "\n",
    "# Set the selected 'Fare' values to NaN\n",
    "data.loc[random_indices, 'Fare'] = np.nan"
   ]
  },
  {
   "cell_type": "code",
   "execution_count": 9,
   "id": "29c53155-1c85-40f5-8c42-8ff33a7efa41",
   "metadata": {},
   "outputs": [],
   "source": [
    "# Speichern der Indizes der Zeilen mit fehlenden Alterswerten\n",
    "missing_age_indices = data[data['Age'].isnull()].index\n",
    "# Finden Sie die Indizes, bei denen sowohl 'Age' als auch 'Fare' fehlende Werte haben\n",
    "missing_age_fare_indices = data[data['Age'].isnull() & data['Fare'].isnull()].index"
   ]
  },
  {
   "cell_type": "code",
   "execution_count": 10,
   "id": "a634141e-ca06-4f75-8bad-485925fbf94c",
   "metadata": {},
   "outputs": [
    {
     "data": {
      "text/html": [
       "<div>\n",
       "<style scoped>\n",
       "    .dataframe tbody tr th:only-of-type {\n",
       "        vertical-align: middle;\n",
       "    }\n",
       "\n",
       "    .dataframe tbody tr th {\n",
       "        vertical-align: top;\n",
       "    }\n",
       "\n",
       "    .dataframe thead th {\n",
       "        text-align: right;\n",
       "    }\n",
       "</style>\n",
       "<table border=\"1\" class=\"dataframe\">\n",
       "  <thead>\n",
       "    <tr style=\"text-align: right;\">\n",
       "      <th></th>\n",
       "      <th>PassengerId</th>\n",
       "      <th>Survived</th>\n",
       "      <th>Pclass</th>\n",
       "      <th>Name</th>\n",
       "      <th>Sex</th>\n",
       "      <th>Age</th>\n",
       "      <th>SibSp</th>\n",
       "      <th>Parch</th>\n",
       "      <th>Ticket</th>\n",
       "      <th>Fare</th>\n",
       "      <th>Cabin</th>\n",
       "      <th>Embarked</th>\n",
       "    </tr>\n",
       "  </thead>\n",
       "  <tbody>\n",
       "    <tr>\n",
       "      <th>5</th>\n",
       "      <td>6</td>\n",
       "      <td>0</td>\n",
       "      <td>3</td>\n",
       "      <td>Moran, Mr. James</td>\n",
       "      <td>male</td>\n",
       "      <td>NaN</td>\n",
       "      <td>0</td>\n",
       "      <td>0</td>\n",
       "      <td>330877</td>\n",
       "      <td>8.4583</td>\n",
       "      <td>NaN</td>\n",
       "      <td>Q</td>\n",
       "    </tr>\n",
       "    <tr>\n",
       "      <th>17</th>\n",
       "      <td>18</td>\n",
       "      <td>1</td>\n",
       "      <td>2</td>\n",
       "      <td>Williams, Mr. Charles Eugene</td>\n",
       "      <td>male</td>\n",
       "      <td>NaN</td>\n",
       "      <td>0</td>\n",
       "      <td>0</td>\n",
       "      <td>244373</td>\n",
       "      <td>13.0000</td>\n",
       "      <td>NaN</td>\n",
       "      <td>S</td>\n",
       "    </tr>\n",
       "    <tr>\n",
       "      <th>19</th>\n",
       "      <td>20</td>\n",
       "      <td>1</td>\n",
       "      <td>3</td>\n",
       "      <td>Masselmani, Mrs. Fatima</td>\n",
       "      <td>female</td>\n",
       "      <td>NaN</td>\n",
       "      <td>0</td>\n",
       "      <td>0</td>\n",
       "      <td>2649</td>\n",
       "      <td>7.2250</td>\n",
       "      <td>NaN</td>\n",
       "      <td>C</td>\n",
       "    </tr>\n",
       "    <tr>\n",
       "      <th>26</th>\n",
       "      <td>27</td>\n",
       "      <td>0</td>\n",
       "      <td>3</td>\n",
       "      <td>Emir, Mr. Farred Chehab</td>\n",
       "      <td>male</td>\n",
       "      <td>NaN</td>\n",
       "      <td>0</td>\n",
       "      <td>0</td>\n",
       "      <td>2631</td>\n",
       "      <td>7.2250</td>\n",
       "      <td>NaN</td>\n",
       "      <td>C</td>\n",
       "    </tr>\n",
       "    <tr>\n",
       "      <th>28</th>\n",
       "      <td>29</td>\n",
       "      <td>1</td>\n",
       "      <td>3</td>\n",
       "      <td>O'Dwyer, Miss. Ellen \"Nellie\"</td>\n",
       "      <td>female</td>\n",
       "      <td>NaN</td>\n",
       "      <td>0</td>\n",
       "      <td>0</td>\n",
       "      <td>330959</td>\n",
       "      <td>7.8792</td>\n",
       "      <td>NaN</td>\n",
       "      <td>Q</td>\n",
       "    </tr>\n",
       "  </tbody>\n",
       "</table>\n",
       "</div>"
      ],
      "text/plain": [
       "    PassengerId  Survived  Pclass                           Name     Sex  Age  \\\n",
       "5             6         0       3               Moran, Mr. James    male  NaN   \n",
       "17           18         1       2   Williams, Mr. Charles Eugene    male  NaN   \n",
       "19           20         1       3        Masselmani, Mrs. Fatima  female  NaN   \n",
       "26           27         0       3        Emir, Mr. Farred Chehab    male  NaN   \n",
       "28           29         1       3  O'Dwyer, Miss. Ellen \"Nellie\"  female  NaN   \n",
       "\n",
       "    SibSp  Parch  Ticket     Fare Cabin Embarked  \n",
       "5       0      0  330877   8.4583   NaN        Q  \n",
       "17      0      0  244373  13.0000   NaN        S  \n",
       "19      0      0    2649   7.2250   NaN        C  \n",
       "26      0      0    2631   7.2250   NaN        C  \n",
       "28      0      0  330959   7.8792   NaN        Q  "
      ]
     },
     "execution_count": 10,
     "metadata": {},
     "output_type": "execute_result"
    }
   ],
   "source": [
    "# Anzeigen der Zeilen mit den ursprünglich fehlenden Alterswerten nach der Imputation\n",
    "data.loc[missing_age_indices].head()"
   ]
  },
  {
   "cell_type": "code",
   "execution_count": 11,
   "id": "c0d16532-7412-4b62-abbc-5cd857fcaffe",
   "metadata": {},
   "outputs": [
    {
     "data": {
      "text/html": [
       "<div>\n",
       "<style scoped>\n",
       "    .dataframe tbody tr th:only-of-type {\n",
       "        vertical-align: middle;\n",
       "    }\n",
       "\n",
       "    .dataframe tbody tr th {\n",
       "        vertical-align: top;\n",
       "    }\n",
       "\n",
       "    .dataframe thead th {\n",
       "        text-align: right;\n",
       "    }\n",
       "</style>\n",
       "<table border=\"1\" class=\"dataframe\">\n",
       "  <thead>\n",
       "    <tr style=\"text-align: right;\">\n",
       "      <th></th>\n",
       "      <th>PassengerId</th>\n",
       "      <th>Survived</th>\n",
       "      <th>Pclass</th>\n",
       "      <th>Name</th>\n",
       "      <th>Sex</th>\n",
       "      <th>Age</th>\n",
       "      <th>SibSp</th>\n",
       "      <th>Parch</th>\n",
       "      <th>Ticket</th>\n",
       "      <th>Fare</th>\n",
       "      <th>Cabin</th>\n",
       "      <th>Embarked</th>\n",
       "    </tr>\n",
       "  </thead>\n",
       "  <tbody>\n",
       "    <tr>\n",
       "      <th>31</th>\n",
       "      <td>32</td>\n",
       "      <td>1</td>\n",
       "      <td>1</td>\n",
       "      <td>Spencer, Mrs. William Augustus (Marie Eugenie)</td>\n",
       "      <td>female</td>\n",
       "      <td>NaN</td>\n",
       "      <td>1</td>\n",
       "      <td>0</td>\n",
       "      <td>PC 17569</td>\n",
       "      <td>NaN</td>\n",
       "      <td>B78</td>\n",
       "      <td>C</td>\n",
       "    </tr>\n",
       "    <tr>\n",
       "      <th>55</th>\n",
       "      <td>56</td>\n",
       "      <td>1</td>\n",
       "      <td>1</td>\n",
       "      <td>Woolner, Mr. Hugh</td>\n",
       "      <td>male</td>\n",
       "      <td>NaN</td>\n",
       "      <td>0</td>\n",
       "      <td>0</td>\n",
       "      <td>19947</td>\n",
       "      <td>NaN</td>\n",
       "      <td>C52</td>\n",
       "      <td>S</td>\n",
       "    </tr>\n",
       "    <tr>\n",
       "      <th>196</th>\n",
       "      <td>197</td>\n",
       "      <td>0</td>\n",
       "      <td>3</td>\n",
       "      <td>Mernagh, Mr. Robert</td>\n",
       "      <td>male</td>\n",
       "      <td>NaN</td>\n",
       "      <td>0</td>\n",
       "      <td>0</td>\n",
       "      <td>368703</td>\n",
       "      <td>NaN</td>\n",
       "      <td>NaN</td>\n",
       "      <td>Q</td>\n",
       "    </tr>\n",
       "    <tr>\n",
       "      <th>270</th>\n",
       "      <td>271</td>\n",
       "      <td>0</td>\n",
       "      <td>1</td>\n",
       "      <td>Cairns, Mr. Alexander</td>\n",
       "      <td>male</td>\n",
       "      <td>NaN</td>\n",
       "      <td>0</td>\n",
       "      <td>0</td>\n",
       "      <td>113798</td>\n",
       "      <td>NaN</td>\n",
       "      <td>NaN</td>\n",
       "      <td>S</td>\n",
       "    </tr>\n",
       "    <tr>\n",
       "      <th>298</th>\n",
       "      <td>299</td>\n",
       "      <td>1</td>\n",
       "      <td>1</td>\n",
       "      <td>Saalfeld, Mr. Adolphe</td>\n",
       "      <td>male</td>\n",
       "      <td>NaN</td>\n",
       "      <td>0</td>\n",
       "      <td>0</td>\n",
       "      <td>19988</td>\n",
       "      <td>NaN</td>\n",
       "      <td>C106</td>\n",
       "      <td>S</td>\n",
       "    </tr>\n",
       "  </tbody>\n",
       "</table>\n",
       "</div>"
      ],
      "text/plain": [
       "     PassengerId  Survived  Pclass  \\\n",
       "31            32         1       1   \n",
       "55            56         1       1   \n",
       "196          197         0       3   \n",
       "270          271         0       1   \n",
       "298          299         1       1   \n",
       "\n",
       "                                               Name     Sex  Age  SibSp  \\\n",
       "31   Spencer, Mrs. William Augustus (Marie Eugenie)  female  NaN      1   \n",
       "55                                Woolner, Mr. Hugh    male  NaN      0   \n",
       "196                             Mernagh, Mr. Robert    male  NaN      0   \n",
       "270                           Cairns, Mr. Alexander    male  NaN      0   \n",
       "298                           Saalfeld, Mr. Adolphe    male  NaN      0   \n",
       "\n",
       "     Parch    Ticket  Fare Cabin Embarked  \n",
       "31       0  PC 17569   NaN   B78        C  \n",
       "55       0     19947   NaN   C52        S  \n",
       "196      0    368703   NaN   NaN        Q  \n",
       "270      0    113798   NaN   NaN        S  \n",
       "298      0     19988   NaN  C106        S  "
      ]
     },
     "execution_count": 11,
     "metadata": {},
     "output_type": "execute_result"
    }
   ],
   "source": [
    "data.loc[missing_age_fare_indices].head()"
   ]
  },
  {
   "cell_type": "markdown",
   "id": "55e1fae1-70a5-4dd5-8979-62ad0e10e0d5",
   "metadata": {},
   "source": [
    "### Mittelwert/Median/Modus-Imputation"
   ]
  },
  {
   "cell_type": "code",
   "execution_count": 12,
   "id": "d02e5c9a-72c3-4469-a335-d60bb7843727",
   "metadata": {},
   "outputs": [],
   "source": [
    "data = pd.read_csv('train.csv')"
   ]
  },
  {
   "cell_type": "code",
   "execution_count": 13,
   "id": "892ab476-95a9-4223-8de0-b78cd8bd2a7d",
   "metadata": {},
   "outputs": [],
   "source": [
    "# Mittelwert\n",
    "data['Age'] = data['Age'].fillna(data['Age'].mean())"
   ]
  },
  {
   "cell_type": "code",
   "execution_count": 14,
   "id": "9109f5ab-856f-456e-acd1-4a079b047d54",
   "metadata": {},
   "outputs": [],
   "source": [
    "# Median\n",
    "data['Age'] = data['Age'].fillna(data['Age'].median())"
   ]
  },
  {
   "cell_type": "code",
   "execution_count": 15,
   "id": "46ef84bd-7644-477e-8dfd-25cc51a9f0fe",
   "metadata": {},
   "outputs": [],
   "source": [
    "# Modus (häufigster Wert)\n",
    "data['Age'] = data['Age'].fillna(data['Age'].mode()[0])"
   ]
  },
  {
   "cell_type": "code",
   "execution_count": 16,
   "id": "646cc73b-ccff-4a01-8cf5-9f5a15efeb2a",
   "metadata": {},
   "outputs": [
    {
     "data": {
      "text/html": [
       "<div>\n",
       "<style scoped>\n",
       "    .dataframe tbody tr th:only-of-type {\n",
       "        vertical-align: middle;\n",
       "    }\n",
       "\n",
       "    .dataframe tbody tr th {\n",
       "        vertical-align: top;\n",
       "    }\n",
       "\n",
       "    .dataframe thead th {\n",
       "        text-align: right;\n",
       "    }\n",
       "</style>\n",
       "<table border=\"1\" class=\"dataframe\">\n",
       "  <thead>\n",
       "    <tr style=\"text-align: right;\">\n",
       "      <th></th>\n",
       "      <th>PassengerId</th>\n",
       "      <th>Survived</th>\n",
       "      <th>Pclass</th>\n",
       "      <th>Name</th>\n",
       "      <th>Sex</th>\n",
       "      <th>Age</th>\n",
       "      <th>SibSp</th>\n",
       "      <th>Parch</th>\n",
       "      <th>Ticket</th>\n",
       "      <th>Fare</th>\n",
       "      <th>Cabin</th>\n",
       "      <th>Embarked</th>\n",
       "    </tr>\n",
       "  </thead>\n",
       "  <tbody>\n",
       "    <tr>\n",
       "      <th>5</th>\n",
       "      <td>6</td>\n",
       "      <td>0</td>\n",
       "      <td>3</td>\n",
       "      <td>Moran, Mr. James</td>\n",
       "      <td>male</td>\n",
       "      <td>29.699118</td>\n",
       "      <td>0</td>\n",
       "      <td>0</td>\n",
       "      <td>330877</td>\n",
       "      <td>8.4583</td>\n",
       "      <td>NaN</td>\n",
       "      <td>Q</td>\n",
       "    </tr>\n",
       "    <tr>\n",
       "      <th>17</th>\n",
       "      <td>18</td>\n",
       "      <td>1</td>\n",
       "      <td>2</td>\n",
       "      <td>Williams, Mr. Charles Eugene</td>\n",
       "      <td>male</td>\n",
       "      <td>29.699118</td>\n",
       "      <td>0</td>\n",
       "      <td>0</td>\n",
       "      <td>244373</td>\n",
       "      <td>13.0000</td>\n",
       "      <td>NaN</td>\n",
       "      <td>S</td>\n",
       "    </tr>\n",
       "    <tr>\n",
       "      <th>19</th>\n",
       "      <td>20</td>\n",
       "      <td>1</td>\n",
       "      <td>3</td>\n",
       "      <td>Masselmani, Mrs. Fatima</td>\n",
       "      <td>female</td>\n",
       "      <td>29.699118</td>\n",
       "      <td>0</td>\n",
       "      <td>0</td>\n",
       "      <td>2649</td>\n",
       "      <td>7.2250</td>\n",
       "      <td>NaN</td>\n",
       "      <td>C</td>\n",
       "    </tr>\n",
       "    <tr>\n",
       "      <th>26</th>\n",
       "      <td>27</td>\n",
       "      <td>0</td>\n",
       "      <td>3</td>\n",
       "      <td>Emir, Mr. Farred Chehab</td>\n",
       "      <td>male</td>\n",
       "      <td>29.699118</td>\n",
       "      <td>0</td>\n",
       "      <td>0</td>\n",
       "      <td>2631</td>\n",
       "      <td>7.2250</td>\n",
       "      <td>NaN</td>\n",
       "      <td>C</td>\n",
       "    </tr>\n",
       "    <tr>\n",
       "      <th>28</th>\n",
       "      <td>29</td>\n",
       "      <td>1</td>\n",
       "      <td>3</td>\n",
       "      <td>O'Dwyer, Miss. Ellen \"Nellie\"</td>\n",
       "      <td>female</td>\n",
       "      <td>29.699118</td>\n",
       "      <td>0</td>\n",
       "      <td>0</td>\n",
       "      <td>330959</td>\n",
       "      <td>7.8792</td>\n",
       "      <td>NaN</td>\n",
       "      <td>Q</td>\n",
       "    </tr>\n",
       "  </tbody>\n",
       "</table>\n",
       "</div>"
      ],
      "text/plain": [
       "    PassengerId  Survived  Pclass                           Name     Sex  \\\n",
       "5             6         0       3               Moran, Mr. James    male   \n",
       "17           18         1       2   Williams, Mr. Charles Eugene    male   \n",
       "19           20         1       3        Masselmani, Mrs. Fatima  female   \n",
       "26           27         0       3        Emir, Mr. Farred Chehab    male   \n",
       "28           29         1       3  O'Dwyer, Miss. Ellen \"Nellie\"  female   \n",
       "\n",
       "          Age  SibSp  Parch  Ticket     Fare Cabin Embarked  \n",
       "5   29.699118      0      0  330877   8.4583   NaN        Q  \n",
       "17  29.699118      0      0  244373  13.0000   NaN        S  \n",
       "19  29.699118      0      0    2649   7.2250   NaN        C  \n",
       "26  29.699118      0      0    2631   7.2250   NaN        C  \n",
       "28  29.699118      0      0  330959   7.8792   NaN        Q  "
      ]
     },
     "execution_count": 16,
     "metadata": {},
     "output_type": "execute_result"
    }
   ],
   "source": [
    "data.loc[missing_age_indices].head()"
   ]
  },
  {
   "cell_type": "markdown",
   "id": "def025a9-623b-4d70-bca4-7a78d11ac75d",
   "metadata": {},
   "source": [
    "Das kann man auch anders implementieren:"
   ]
  },
  {
   "cell_type": "code",
   "execution_count": 17,
   "id": "e621cd6b-3081-4b90-b7ea-6f10c24ffa90",
   "metadata": {},
   "outputs": [],
   "source": [
    "# SimpleImputer erstellen, um fehlende Werte mit dem Mittelwert zu füllen\n",
    "imputer = SimpleImputer(strategy='mean')\n",
    "\n",
    "# Imputer anwenden auf die 'Age'-Spalte und die Werte zurück in 'data' schreiben\n",
    "data['Age'] = imputer.fit_transform(data[['Age']])"
   ]
  },
  {
   "cell_type": "code",
   "execution_count": 18,
   "id": "dba70835-4fcb-49f3-a343-f1ae436e5047",
   "metadata": {},
   "outputs": [
    {
     "name": "stdout",
     "output_type": "stream",
     "text": [
      "Nach Mean/Median Imputation:\n",
      "    Name    Age  TestScore Grade\n",
      "0   John  20.00      85.00     A\n",
      "1  Alice  19.75      90.00     B\n",
      "2    Bob  22.00      86.25   NaN\n",
      "3   Emma  19.00      78.00     C\n",
      "4    Tom  18.00      92.00     A\n"
     ]
    }
   ],
   "source": [
    "# Verwenden der Mittelwert-/Median-/Modus-Imputation\n",
    "imputer = SimpleImputer(strategy='mean')  # Andere Strategien: 'median', 'most_frequent' für Modus\n",
    "df[['Age', 'TestScore']] = imputer.fit_transform(df[['Age', 'TestScore']])\n",
    "\n",
    "print(\"Nach Mean/Median Imputation:\")\n",
    "print(df)"
   ]
  },
  {
   "cell_type": "markdown",
   "id": "22d4af51-2f95-434c-99c5-8fc60170ba61",
   "metadata": {},
   "source": [
    "### Forward Fill/Backward Fill"
   ]
  },
  {
   "cell_type": "code",
   "execution_count": null,
   "id": "ed6af952-3392-4aa5-85ba-5a140cda1ed9",
   "metadata": {},
   "outputs": [],
   "source": []
  },
  {
   "cell_type": "code",
   "execution_count": 19,
   "id": "b0d902f3-336c-4cc9-8129-7790854a927b",
   "metadata": {},
   "outputs": [],
   "source": [
    "data = pd.read_csv('train.csv')"
   ]
  },
  {
   "cell_type": "code",
   "execution_count": 20,
   "id": "611df696-cfc7-4194-8ec4-9703e8ffc9f3",
   "metadata": {},
   "outputs": [],
   "source": [
    "# Forward Fill\n",
    "data['Age'] = data['Age'].ffill()"
   ]
  },
  {
   "cell_type": "code",
   "execution_count": 21,
   "id": "b4733dad-66eb-49b0-8492-3b3c2f8292f4",
   "metadata": {},
   "outputs": [],
   "source": [
    "# Backward Fill\n",
    "data['Age'] = data['Age'].bfill()"
   ]
  },
  {
   "cell_type": "code",
   "execution_count": 22,
   "id": "a727ff69-4798-479c-9ccf-4f764b5dffba",
   "metadata": {},
   "outputs": [
    {
     "data": {
      "text/html": [
       "<div>\n",
       "<style scoped>\n",
       "    .dataframe tbody tr th:only-of-type {\n",
       "        vertical-align: middle;\n",
       "    }\n",
       "\n",
       "    .dataframe tbody tr th {\n",
       "        vertical-align: top;\n",
       "    }\n",
       "\n",
       "    .dataframe thead th {\n",
       "        text-align: right;\n",
       "    }\n",
       "</style>\n",
       "<table border=\"1\" class=\"dataframe\">\n",
       "  <thead>\n",
       "    <tr style=\"text-align: right;\">\n",
       "      <th></th>\n",
       "      <th>PassengerId</th>\n",
       "      <th>Survived</th>\n",
       "      <th>Pclass</th>\n",
       "      <th>Name</th>\n",
       "      <th>Sex</th>\n",
       "      <th>Age</th>\n",
       "      <th>SibSp</th>\n",
       "      <th>Parch</th>\n",
       "      <th>Ticket</th>\n",
       "      <th>Fare</th>\n",
       "      <th>Cabin</th>\n",
       "      <th>Embarked</th>\n",
       "    </tr>\n",
       "  </thead>\n",
       "  <tbody>\n",
       "    <tr>\n",
       "      <th>5</th>\n",
       "      <td>6</td>\n",
       "      <td>0</td>\n",
       "      <td>3</td>\n",
       "      <td>Moran, Mr. James</td>\n",
       "      <td>male</td>\n",
       "      <td>35.0</td>\n",
       "      <td>0</td>\n",
       "      <td>0</td>\n",
       "      <td>330877</td>\n",
       "      <td>8.4583</td>\n",
       "      <td>NaN</td>\n",
       "      <td>Q</td>\n",
       "    </tr>\n",
       "    <tr>\n",
       "      <th>17</th>\n",
       "      <td>18</td>\n",
       "      <td>1</td>\n",
       "      <td>2</td>\n",
       "      <td>Williams, Mr. Charles Eugene</td>\n",
       "      <td>male</td>\n",
       "      <td>2.0</td>\n",
       "      <td>0</td>\n",
       "      <td>0</td>\n",
       "      <td>244373</td>\n",
       "      <td>13.0000</td>\n",
       "      <td>NaN</td>\n",
       "      <td>S</td>\n",
       "    </tr>\n",
       "    <tr>\n",
       "      <th>19</th>\n",
       "      <td>20</td>\n",
       "      <td>1</td>\n",
       "      <td>3</td>\n",
       "      <td>Masselmani, Mrs. Fatima</td>\n",
       "      <td>female</td>\n",
       "      <td>31.0</td>\n",
       "      <td>0</td>\n",
       "      <td>0</td>\n",
       "      <td>2649</td>\n",
       "      <td>7.2250</td>\n",
       "      <td>NaN</td>\n",
       "      <td>C</td>\n",
       "    </tr>\n",
       "    <tr>\n",
       "      <th>26</th>\n",
       "      <td>27</td>\n",
       "      <td>0</td>\n",
       "      <td>3</td>\n",
       "      <td>Emir, Mr. Farred Chehab</td>\n",
       "      <td>male</td>\n",
       "      <td>38.0</td>\n",
       "      <td>0</td>\n",
       "      <td>0</td>\n",
       "      <td>2631</td>\n",
       "      <td>7.2250</td>\n",
       "      <td>NaN</td>\n",
       "      <td>C</td>\n",
       "    </tr>\n",
       "    <tr>\n",
       "      <th>28</th>\n",
       "      <td>29</td>\n",
       "      <td>1</td>\n",
       "      <td>3</td>\n",
       "      <td>O'Dwyer, Miss. Ellen \"Nellie\"</td>\n",
       "      <td>female</td>\n",
       "      <td>19.0</td>\n",
       "      <td>0</td>\n",
       "      <td>0</td>\n",
       "      <td>330959</td>\n",
       "      <td>7.8792</td>\n",
       "      <td>NaN</td>\n",
       "      <td>Q</td>\n",
       "    </tr>\n",
       "  </tbody>\n",
       "</table>\n",
       "</div>"
      ],
      "text/plain": [
       "    PassengerId  Survived  Pclass                           Name     Sex  \\\n",
       "5             6         0       3               Moran, Mr. James    male   \n",
       "17           18         1       2   Williams, Mr. Charles Eugene    male   \n",
       "19           20         1       3        Masselmani, Mrs. Fatima  female   \n",
       "26           27         0       3        Emir, Mr. Farred Chehab    male   \n",
       "28           29         1       3  O'Dwyer, Miss. Ellen \"Nellie\"  female   \n",
       "\n",
       "     Age  SibSp  Parch  Ticket     Fare Cabin Embarked  \n",
       "5   35.0      0      0  330877   8.4583   NaN        Q  \n",
       "17   2.0      0      0  244373  13.0000   NaN        S  \n",
       "19  31.0      0      0    2649   7.2250   NaN        C  \n",
       "26  38.0      0      0    2631   7.2250   NaN        C  \n",
       "28  19.0      0      0  330959   7.8792   NaN        Q  "
      ]
     },
     "execution_count": 22,
     "metadata": {},
     "output_type": "execute_result"
    }
   ],
   "source": [
    "data.loc[missing_age_indices].head()"
   ]
  },
  {
   "cell_type": "markdown",
   "id": "f16997f9-fdf3-401f-8a23-597d0b6e17fc",
   "metadata": {},
   "source": [
    "Diese Methode macht hier offensichtlich keinen Sinn!"
   ]
  },
  {
   "cell_type": "markdown",
   "id": "6997585e-3e31-4f47-b430-afcb57950621",
   "metadata": {},
   "source": [
    "### Regression zur Vorhersage fehlender Werte"
   ]
  },
  {
   "cell_type": "code",
   "execution_count": 23,
   "id": "c19df03c-e252-4e3d-bd1a-d61917221742",
   "metadata": {},
   "outputs": [],
   "source": [
    "data = pd.read_csv('train.csv')"
   ]
  },
  {
   "cell_type": "code",
   "execution_count": 24,
   "id": "349d8f38-9070-4395-b269-a3c17cdb722a",
   "metadata": {},
   "outputs": [],
   "source": [
    "# Datensätze mit und ohne fehlende Werte trennen\n",
    "train_data = data[data['Age'].notnull()]\n",
    "test_data = data[data['Age'].isnull()]\n",
    "\n",
    "# Modell erstellen und trainieren\n",
    "regressor = LinearRegression()\n",
    "regressor.fit(train_data[['Fare', 'Pclass', 'SibSp']], train_data['Age'])\n",
    "\n",
    "# Vorhersage der fehlenden Werte\n",
    "data.loc[data['Age'].isnull(), 'Age'] = regressor.predict(test_data[['Fare', 'Pclass', 'SibSp']])"
   ]
  },
  {
   "cell_type": "code",
   "execution_count": 25,
   "id": "fc31d693-26ae-42ab-b63e-81f24556293c",
   "metadata": {},
   "outputs": [
    {
     "data": {
      "text/html": [
       "<div>\n",
       "<style scoped>\n",
       "    .dataframe tbody tr th:only-of-type {\n",
       "        vertical-align: middle;\n",
       "    }\n",
       "\n",
       "    .dataframe tbody tr th {\n",
       "        vertical-align: top;\n",
       "    }\n",
       "\n",
       "    .dataframe thead th {\n",
       "        text-align: right;\n",
       "    }\n",
       "</style>\n",
       "<table border=\"1\" class=\"dataframe\">\n",
       "  <thead>\n",
       "    <tr style=\"text-align: right;\">\n",
       "      <th></th>\n",
       "      <th>PassengerId</th>\n",
       "      <th>Survived</th>\n",
       "      <th>Pclass</th>\n",
       "      <th>Name</th>\n",
       "      <th>Sex</th>\n",
       "      <th>Age</th>\n",
       "      <th>SibSp</th>\n",
       "      <th>Parch</th>\n",
       "      <th>Ticket</th>\n",
       "      <th>Fare</th>\n",
       "      <th>Cabin</th>\n",
       "      <th>Embarked</th>\n",
       "    </tr>\n",
       "  </thead>\n",
       "  <tbody>\n",
       "    <tr>\n",
       "      <th>5</th>\n",
       "      <td>6</td>\n",
       "      <td>0</td>\n",
       "      <td>3</td>\n",
       "      <td>Moran, Mr. James</td>\n",
       "      <td>male</td>\n",
       "      <td>27.198219</td>\n",
       "      <td>0</td>\n",
       "      <td>0</td>\n",
       "      <td>330877</td>\n",
       "      <td>8.4583</td>\n",
       "      <td>NaN</td>\n",
       "      <td>Q</td>\n",
       "    </tr>\n",
       "    <tr>\n",
       "      <th>17</th>\n",
       "      <td>18</td>\n",
       "      <td>1</td>\n",
       "      <td>2</td>\n",
       "      <td>Williams, Mr. Charles Eugene</td>\n",
       "      <td>male</td>\n",
       "      <td>34.022486</td>\n",
       "      <td>0</td>\n",
       "      <td>0</td>\n",
       "      <td>244373</td>\n",
       "      <td>13.0000</td>\n",
       "      <td>NaN</td>\n",
       "      <td>S</td>\n",
       "    </tr>\n",
       "    <tr>\n",
       "      <th>19</th>\n",
       "      <td>20</td>\n",
       "      <td>1</td>\n",
       "      <td>3</td>\n",
       "      <td>Masselmani, Mrs. Fatima</td>\n",
       "      <td>female</td>\n",
       "      <td>27.228171</td>\n",
       "      <td>0</td>\n",
       "      <td>0</td>\n",
       "      <td>2649</td>\n",
       "      <td>7.2250</td>\n",
       "      <td>NaN</td>\n",
       "      <td>C</td>\n",
       "    </tr>\n",
       "    <tr>\n",
       "      <th>26</th>\n",
       "      <td>27</td>\n",
       "      <td>0</td>\n",
       "      <td>3</td>\n",
       "      <td>Emir, Mr. Farred Chehab</td>\n",
       "      <td>male</td>\n",
       "      <td>27.228171</td>\n",
       "      <td>0</td>\n",
       "      <td>0</td>\n",
       "      <td>2631</td>\n",
       "      <td>7.2250</td>\n",
       "      <td>NaN</td>\n",
       "      <td>C</td>\n",
       "    </tr>\n",
       "    <tr>\n",
       "      <th>28</th>\n",
       "      <td>29</td>\n",
       "      <td>1</td>\n",
       "      <td>3</td>\n",
       "      <td>O'Dwyer, Miss. Ellen \"Nellie\"</td>\n",
       "      <td>female</td>\n",
       "      <td>27.212283</td>\n",
       "      <td>0</td>\n",
       "      <td>0</td>\n",
       "      <td>330959</td>\n",
       "      <td>7.8792</td>\n",
       "      <td>NaN</td>\n",
       "      <td>Q</td>\n",
       "    </tr>\n",
       "  </tbody>\n",
       "</table>\n",
       "</div>"
      ],
      "text/plain": [
       "    PassengerId  Survived  Pclass                           Name     Sex  \\\n",
       "5             6         0       3               Moran, Mr. James    male   \n",
       "17           18         1       2   Williams, Mr. Charles Eugene    male   \n",
       "19           20         1       3        Masselmani, Mrs. Fatima  female   \n",
       "26           27         0       3        Emir, Mr. Farred Chehab    male   \n",
       "28           29         1       3  O'Dwyer, Miss. Ellen \"Nellie\"  female   \n",
       "\n",
       "          Age  SibSp  Parch  Ticket     Fare Cabin Embarked  \n",
       "5   27.198219      0      0  330877   8.4583   NaN        Q  \n",
       "17  34.022486      0      0  244373  13.0000   NaN        S  \n",
       "19  27.228171      0      0    2649   7.2250   NaN        C  \n",
       "26  27.228171      0      0    2631   7.2250   NaN        C  \n",
       "28  27.212283      0      0  330959   7.8792   NaN        Q  "
      ]
     },
     "execution_count": 25,
     "metadata": {},
     "output_type": "execute_result"
    }
   ],
   "source": [
    "data.loc[missing_age_indices].head()"
   ]
  },
  {
   "cell_type": "markdown",
   "id": "ffa39ae7-2320-4316-93c0-3b6517250439",
   "metadata": {},
   "source": [
    "### Iterative Imputation"
   ]
  },
  {
   "cell_type": "code",
   "execution_count": 26,
   "id": "87328114-93d3-423b-8403-fb3c20b212f9",
   "metadata": {},
   "outputs": [],
   "source": [
    "data = pd.read_csv('train.csv')"
   ]
  },
  {
   "cell_type": "code",
   "execution_count": 27,
   "id": "74d4212b-2e47-4de0-97c0-8ac54363344a",
   "metadata": {},
   "outputs": [],
   "source": [
    "imputer = IterativeImputer()\n",
    "data[['Age', 'Fare']] = imputer.fit_transform(data[['Age', 'Fare']])"
   ]
  },
  {
   "cell_type": "code",
   "execution_count": 28,
   "id": "69b0b68c-7282-4a8f-beeb-a8feaeb4e24e",
   "metadata": {},
   "outputs": [
    {
     "data": {
      "text/html": [
       "<div>\n",
       "<style scoped>\n",
       "    .dataframe tbody tr th:only-of-type {\n",
       "        vertical-align: middle;\n",
       "    }\n",
       "\n",
       "    .dataframe tbody tr th {\n",
       "        vertical-align: top;\n",
       "    }\n",
       "\n",
       "    .dataframe thead th {\n",
       "        text-align: right;\n",
       "    }\n",
       "</style>\n",
       "<table border=\"1\" class=\"dataframe\">\n",
       "  <thead>\n",
       "    <tr style=\"text-align: right;\">\n",
       "      <th></th>\n",
       "      <th>PassengerId</th>\n",
       "      <th>Survived</th>\n",
       "      <th>Pclass</th>\n",
       "      <th>Name</th>\n",
       "      <th>Sex</th>\n",
       "      <th>Age</th>\n",
       "      <th>SibSp</th>\n",
       "      <th>Parch</th>\n",
       "      <th>Ticket</th>\n",
       "      <th>Fare</th>\n",
       "      <th>Cabin</th>\n",
       "      <th>Embarked</th>\n",
       "    </tr>\n",
       "  </thead>\n",
       "  <tbody>\n",
       "    <tr>\n",
       "      <th>31</th>\n",
       "      <td>32</td>\n",
       "      <td>1</td>\n",
       "      <td>1</td>\n",
       "      <td>Spencer, Mrs. William Augustus (Marie Eugenie)</td>\n",
       "      <td>female</td>\n",
       "      <td>32.207043</td>\n",
       "      <td>1</td>\n",
       "      <td>0</td>\n",
       "      <td>PC 17569</td>\n",
       "      <td>146.5208</td>\n",
       "      <td>B78</td>\n",
       "      <td>C</td>\n",
       "    </tr>\n",
       "    <tr>\n",
       "      <th>55</th>\n",
       "      <td>56</td>\n",
       "      <td>1</td>\n",
       "      <td>1</td>\n",
       "      <td>Woolner, Mr. Hugh</td>\n",
       "      <td>male</td>\n",
       "      <td>29.717182</td>\n",
       "      <td>0</td>\n",
       "      <td>0</td>\n",
       "      <td>19947</td>\n",
       "      <td>35.5000</td>\n",
       "      <td>C52</td>\n",
       "      <td>S</td>\n",
       "    </tr>\n",
       "    <tr>\n",
       "      <th>196</th>\n",
       "      <td>197</td>\n",
       "      <td>0</td>\n",
       "      <td>3</td>\n",
       "      <td>Mernagh, Mr. Robert</td>\n",
       "      <td>male</td>\n",
       "      <td>29.094834</td>\n",
       "      <td>0</td>\n",
       "      <td>0</td>\n",
       "      <td>368703</td>\n",
       "      <td>7.7500</td>\n",
       "      <td>NaN</td>\n",
       "      <td>Q</td>\n",
       "    </tr>\n",
       "    <tr>\n",
       "      <th>270</th>\n",
       "      <td>271</td>\n",
       "      <td>0</td>\n",
       "      <td>1</td>\n",
       "      <td>Cairns, Mr. Alexander</td>\n",
       "      <td>male</td>\n",
       "      <td>29.616261</td>\n",
       "      <td>0</td>\n",
       "      <td>0</td>\n",
       "      <td>113798</td>\n",
       "      <td>31.0000</td>\n",
       "      <td>NaN</td>\n",
       "      <td>S</td>\n",
       "    </tr>\n",
       "    <tr>\n",
       "      <th>298</th>\n",
       "      <td>299</td>\n",
       "      <td>1</td>\n",
       "      <td>1</td>\n",
       "      <td>Saalfeld, Mr. Adolphe</td>\n",
       "      <td>male</td>\n",
       "      <td>29.605047</td>\n",
       "      <td>0</td>\n",
       "      <td>0</td>\n",
       "      <td>19988</td>\n",
       "      <td>30.5000</td>\n",
       "      <td>C106</td>\n",
       "      <td>S</td>\n",
       "    </tr>\n",
       "  </tbody>\n",
       "</table>\n",
       "</div>"
      ],
      "text/plain": [
       "     PassengerId  Survived  Pclass  \\\n",
       "31            32         1       1   \n",
       "55            56         1       1   \n",
       "196          197         0       3   \n",
       "270          271         0       1   \n",
       "298          299         1       1   \n",
       "\n",
       "                                               Name     Sex        Age  SibSp  \\\n",
       "31   Spencer, Mrs. William Augustus (Marie Eugenie)  female  32.207043      1   \n",
       "55                                Woolner, Mr. Hugh    male  29.717182      0   \n",
       "196                             Mernagh, Mr. Robert    male  29.094834      0   \n",
       "270                           Cairns, Mr. Alexander    male  29.616261      0   \n",
       "298                           Saalfeld, Mr. Adolphe    male  29.605047      0   \n",
       "\n",
       "     Parch    Ticket      Fare Cabin Embarked  \n",
       "31       0  PC 17569  146.5208   B78        C  \n",
       "55       0     19947   35.5000   C52        S  \n",
       "196      0    368703    7.7500   NaN        Q  \n",
       "270      0    113798   31.0000   NaN        S  \n",
       "298      0     19988   30.5000  C106        S  "
      ]
     },
     "execution_count": 28,
     "metadata": {},
     "output_type": "execute_result"
    }
   ],
   "source": [
    "data.loc[missing_age_fare_indices].head()"
   ]
  },
  {
   "cell_type": "markdown",
   "id": "7616948e-a324-4c6a-87dc-0551cd01b206",
   "metadata": {},
   "source": [
    "## 2. Kategorische Variablen"
   ]
  },
  {
   "cell_type": "code",
   "execution_count": 29,
   "id": "df4125a4-1c56-4420-a252-26750a147c2f",
   "metadata": {},
   "outputs": [
    {
     "name": "stdout",
     "output_type": "stream",
     "text": [
      "Original Dataset:\n"
     ]
    },
    {
     "data": {
      "text/html": [
       "<div>\n",
       "<style scoped>\n",
       "    .dataframe tbody tr th:only-of-type {\n",
       "        vertical-align: middle;\n",
       "    }\n",
       "\n",
       "    .dataframe tbody tr th {\n",
       "        vertical-align: top;\n",
       "    }\n",
       "\n",
       "    .dataframe thead th {\n",
       "        text-align: right;\n",
       "    }\n",
       "</style>\n",
       "<table border=\"1\" class=\"dataframe\">\n",
       "  <thead>\n",
       "    <tr style=\"text-align: right;\">\n",
       "      <th></th>\n",
       "      <th>Fruit</th>\n",
       "      <th>Color</th>\n",
       "      <th>Tastes_Good</th>\n",
       "    </tr>\n",
       "  </thead>\n",
       "  <tbody>\n",
       "    <tr>\n",
       "      <th>0</th>\n",
       "      <td>Apple</td>\n",
       "      <td>Red</td>\n",
       "      <td>1</td>\n",
       "    </tr>\n",
       "    <tr>\n",
       "      <th>1</th>\n",
       "      <td>Banana</td>\n",
       "      <td>Yellow</td>\n",
       "      <td>0</td>\n",
       "    </tr>\n",
       "    <tr>\n",
       "      <th>2</th>\n",
       "      <td>Orange</td>\n",
       "      <td>Orange</td>\n",
       "      <td>0</td>\n",
       "    </tr>\n",
       "    <tr>\n",
       "      <th>3</th>\n",
       "      <td>Apple</td>\n",
       "      <td>Green</td>\n",
       "      <td>1</td>\n",
       "    </tr>\n",
       "    <tr>\n",
       "      <th>4</th>\n",
       "      <td>Banana</td>\n",
       "      <td>Yellow</td>\n",
       "      <td>1</td>\n",
       "    </tr>\n",
       "  </tbody>\n",
       "</table>\n",
       "</div>"
      ],
      "text/plain": [
       "    Fruit   Color  Tastes_Good\n",
       "0   Apple     Red            1\n",
       "1  Banana  Yellow            0\n",
       "2  Orange  Orange            0\n",
       "3   Apple   Green            1\n",
       "4  Banana  Yellow            1"
      ]
     },
     "execution_count": 29,
     "metadata": {},
     "output_type": "execute_result"
    }
   ],
   "source": [
    "# Erstellen des ursprünglichen Datensatzes\n",
    "df = pd.DataFrame({\n",
    "    'Fruit': ['Apple', 'Banana', 'Orange', 'Apple', 'Banana'],\n",
    "    'Color': ['Red', 'Yellow', 'Orange', 'Green', 'Yellow'],\n",
    "    'Tastes_Good': [1, 0, 0, 1, 1]\n",
    "})\n",
    "\n",
    "print(\"Original Dataset:\")\n",
    "df"
   ]
  },
  {
   "cell_type": "markdown",
   "id": "5ef55106-8832-40ad-90c4-aacff0b59746",
   "metadata": {},
   "source": [
    "### One-Hot Encoding"
   ]
  },
  {
   "cell_type": "code",
   "execution_count": 30,
   "id": "3d02ce8e-2850-4079-bafc-1f84fcd4b78f",
   "metadata": {},
   "outputs": [
    {
     "name": "stdout",
     "output_type": "stream",
     "text": [
      "\n",
      "Nach One-Hot Encoding:\n"
     ]
    },
    {
     "data": {
      "text/html": [
       "<div>\n",
       "<style scoped>\n",
       "    .dataframe tbody tr th:only-of-type {\n",
       "        vertical-align: middle;\n",
       "    }\n",
       "\n",
       "    .dataframe tbody tr th {\n",
       "        vertical-align: top;\n",
       "    }\n",
       "\n",
       "    .dataframe thead th {\n",
       "        text-align: right;\n",
       "    }\n",
       "</style>\n",
       "<table border=\"1\" class=\"dataframe\">\n",
       "  <thead>\n",
       "    <tr style=\"text-align: right;\">\n",
       "      <th></th>\n",
       "      <th>Tastes_Good</th>\n",
       "      <th>Fruit_Apple</th>\n",
       "      <th>Fruit_Banana</th>\n",
       "      <th>Fruit_Orange</th>\n",
       "      <th>Color_Green</th>\n",
       "      <th>Color_Orange</th>\n",
       "      <th>Color_Red</th>\n",
       "      <th>Color_Yellow</th>\n",
       "    </tr>\n",
       "  </thead>\n",
       "  <tbody>\n",
       "    <tr>\n",
       "      <th>0</th>\n",
       "      <td>1</td>\n",
       "      <td>True</td>\n",
       "      <td>False</td>\n",
       "      <td>False</td>\n",
       "      <td>False</td>\n",
       "      <td>False</td>\n",
       "      <td>True</td>\n",
       "      <td>False</td>\n",
       "    </tr>\n",
       "    <tr>\n",
       "      <th>1</th>\n",
       "      <td>0</td>\n",
       "      <td>False</td>\n",
       "      <td>True</td>\n",
       "      <td>False</td>\n",
       "      <td>False</td>\n",
       "      <td>False</td>\n",
       "      <td>False</td>\n",
       "      <td>True</td>\n",
       "    </tr>\n",
       "    <tr>\n",
       "      <th>2</th>\n",
       "      <td>0</td>\n",
       "      <td>False</td>\n",
       "      <td>False</td>\n",
       "      <td>True</td>\n",
       "      <td>False</td>\n",
       "      <td>True</td>\n",
       "      <td>False</td>\n",
       "      <td>False</td>\n",
       "    </tr>\n",
       "    <tr>\n",
       "      <th>3</th>\n",
       "      <td>1</td>\n",
       "      <td>True</td>\n",
       "      <td>False</td>\n",
       "      <td>False</td>\n",
       "      <td>True</td>\n",
       "      <td>False</td>\n",
       "      <td>False</td>\n",
       "      <td>False</td>\n",
       "    </tr>\n",
       "    <tr>\n",
       "      <th>4</th>\n",
       "      <td>1</td>\n",
       "      <td>False</td>\n",
       "      <td>True</td>\n",
       "      <td>False</td>\n",
       "      <td>False</td>\n",
       "      <td>False</td>\n",
       "      <td>False</td>\n",
       "      <td>True</td>\n",
       "    </tr>\n",
       "  </tbody>\n",
       "</table>\n",
       "</div>"
      ],
      "text/plain": [
       "   Tastes_Good  Fruit_Apple  Fruit_Banana  Fruit_Orange  Color_Green  \\\n",
       "0            1         True         False         False        False   \n",
       "1            0        False          True         False        False   \n",
       "2            0        False         False          True        False   \n",
       "3            1         True         False         False         True   \n",
       "4            1        False          True         False        False   \n",
       "\n",
       "   Color_Orange  Color_Red  Color_Yellow  \n",
       "0         False       True         False  \n",
       "1         False      False          True  \n",
       "2          True      False         False  \n",
       "3         False      False         False  \n",
       "4         False      False          True  "
      ]
     },
     "execution_count": 30,
     "metadata": {},
     "output_type": "execute_result"
    }
   ],
   "source": [
    "# One-Hot Encoding anwenden\n",
    "data_encoded = pd.get_dummies(df, columns=['Fruit', 'Color'])\n",
    "\n",
    "print(\"\\nNach One-Hot Encoding:\")\n",
    "data_encoded"
   ]
  },
  {
   "cell_type": "code",
   "execution_count": 31,
   "id": "b95e3990-25d7-4c16-b4b7-ae1a95a46702",
   "metadata": {},
   "outputs": [
    {
     "name": "stdout",
     "output_type": "stream",
     "text": [
      "\n",
      "Nach One-Hot Encoding:\n"
     ]
    },
    {
     "data": {
      "text/html": [
       "<div>\n",
       "<style scoped>\n",
       "    .dataframe tbody tr th:only-of-type {\n",
       "        vertical-align: middle;\n",
       "    }\n",
       "\n",
       "    .dataframe tbody tr th {\n",
       "        vertical-align: top;\n",
       "    }\n",
       "\n",
       "    .dataframe thead th {\n",
       "        text-align: right;\n",
       "    }\n",
       "</style>\n",
       "<table border=\"1\" class=\"dataframe\">\n",
       "  <thead>\n",
       "    <tr style=\"text-align: right;\">\n",
       "      <th></th>\n",
       "      <th>Tastes_Good</th>\n",
       "      <th>Fruit_Banana</th>\n",
       "      <th>Fruit_Orange</th>\n",
       "      <th>Color_Orange</th>\n",
       "      <th>Color_Red</th>\n",
       "      <th>Color_Yellow</th>\n",
       "    </tr>\n",
       "  </thead>\n",
       "  <tbody>\n",
       "    <tr>\n",
       "      <th>0</th>\n",
       "      <td>1</td>\n",
       "      <td>0.0</td>\n",
       "      <td>0.0</td>\n",
       "      <td>0.0</td>\n",
       "      <td>1.0</td>\n",
       "      <td>0.0</td>\n",
       "    </tr>\n",
       "    <tr>\n",
       "      <th>1</th>\n",
       "      <td>0</td>\n",
       "      <td>1.0</td>\n",
       "      <td>0.0</td>\n",
       "      <td>0.0</td>\n",
       "      <td>0.0</td>\n",
       "      <td>1.0</td>\n",
       "    </tr>\n",
       "    <tr>\n",
       "      <th>2</th>\n",
       "      <td>0</td>\n",
       "      <td>0.0</td>\n",
       "      <td>1.0</td>\n",
       "      <td>1.0</td>\n",
       "      <td>0.0</td>\n",
       "      <td>0.0</td>\n",
       "    </tr>\n",
       "    <tr>\n",
       "      <th>3</th>\n",
       "      <td>1</td>\n",
       "      <td>0.0</td>\n",
       "      <td>0.0</td>\n",
       "      <td>0.0</td>\n",
       "      <td>0.0</td>\n",
       "      <td>0.0</td>\n",
       "    </tr>\n",
       "    <tr>\n",
       "      <th>4</th>\n",
       "      <td>1</td>\n",
       "      <td>1.0</td>\n",
       "      <td>0.0</td>\n",
       "      <td>0.0</td>\n",
       "      <td>0.0</td>\n",
       "      <td>1.0</td>\n",
       "    </tr>\n",
       "  </tbody>\n",
       "</table>\n",
       "</div>"
      ],
      "text/plain": [
       "   Tastes_Good  Fruit_Banana  Fruit_Orange  Color_Orange  Color_Red  \\\n",
       "0            1           0.0           0.0           0.0        1.0   \n",
       "1            0           1.0           0.0           0.0        0.0   \n",
       "2            0           0.0           1.0           1.0        0.0   \n",
       "3            1           0.0           0.0           0.0        0.0   \n",
       "4            1           1.0           0.0           0.0        0.0   \n",
       "\n",
       "   Color_Yellow  \n",
       "0           0.0  \n",
       "1           1.0  \n",
       "2           0.0  \n",
       "3           0.0  \n",
       "4           1.0  "
      ]
     },
     "execution_count": 31,
     "metadata": {},
     "output_type": "execute_result"
    }
   ],
   "source": [
    "# 1. One-Hot Encoding mit OneHotEncoder von Scikit-Learn\n",
    "one_hot_encoder = OneHotEncoder(sparse_output=False, drop='first')  # Erstes Level droppen (Multikollinearität)\n",
    "one_hot_encoded = one_hot_encoder.fit_transform(df[['Fruit', 'Color']])\n",
    "feature_names = one_hot_encoder.get_feature_names_out(['Fruit', 'Color'])\n",
    "df_one_hot = pd.DataFrame(one_hot_encoded, columns=feature_names)\n",
    "\n",
    "# Originale kategorische Spalten entfernen und One-Hot-kodierte Spalten hinzufügen\n",
    "df_encoded = pd.concat([df.drop(['Fruit', 'Color'], axis=1), df_one_hot], axis=1)\n",
    "\n",
    "print(\"\\nNach One-Hot Encoding:\")\n",
    "df_encoded"
   ]
  },
  {
   "cell_type": "markdown",
   "id": "bd3555e9-9dd7-4864-9ee7-1ea2390ad014",
   "metadata": {},
   "source": [
    "### Label Encoding"
   ]
  },
  {
   "cell_type": "code",
   "execution_count": 32,
   "id": "f356decc-1832-4869-8ea1-5c89cda954b4",
   "metadata": {},
   "outputs": [
    {
     "name": "stdout",
     "output_type": "stream",
     "text": [
      "\n",
      "Nach Label Encoding:\n"
     ]
    },
    {
     "data": {
      "text/html": [
       "<div>\n",
       "<style scoped>\n",
       "    .dataframe tbody tr th:only-of-type {\n",
       "        vertical-align: middle;\n",
       "    }\n",
       "\n",
       "    .dataframe tbody tr th {\n",
       "        vertical-align: top;\n",
       "    }\n",
       "\n",
       "    .dataframe thead th {\n",
       "        text-align: right;\n",
       "    }\n",
       "</style>\n",
       "<table border=\"1\" class=\"dataframe\">\n",
       "  <thead>\n",
       "    <tr style=\"text-align: right;\">\n",
       "      <th></th>\n",
       "      <th>Fruit</th>\n",
       "      <th>Color</th>\n",
       "      <th>Tastes_Good</th>\n",
       "    </tr>\n",
       "  </thead>\n",
       "  <tbody>\n",
       "    <tr>\n",
       "      <th>0</th>\n",
       "      <td>0</td>\n",
       "      <td>2</td>\n",
       "      <td>1</td>\n",
       "    </tr>\n",
       "    <tr>\n",
       "      <th>1</th>\n",
       "      <td>1</td>\n",
       "      <td>3</td>\n",
       "      <td>0</td>\n",
       "    </tr>\n",
       "    <tr>\n",
       "      <th>2</th>\n",
       "      <td>2</td>\n",
       "      <td>1</td>\n",
       "      <td>0</td>\n",
       "    </tr>\n",
       "    <tr>\n",
       "      <th>3</th>\n",
       "      <td>0</td>\n",
       "      <td>0</td>\n",
       "      <td>1</td>\n",
       "    </tr>\n",
       "    <tr>\n",
       "      <th>4</th>\n",
       "      <td>1</td>\n",
       "      <td>3</td>\n",
       "      <td>1</td>\n",
       "    </tr>\n",
       "  </tbody>\n",
       "</table>\n",
       "</div>"
      ],
      "text/plain": [
       "   Fruit  Color  Tastes_Good\n",
       "0      0      2            1\n",
       "1      1      3            0\n",
       "2      2      1            0\n",
       "3      0      0            1\n",
       "4      1      3            1"
      ]
     },
     "execution_count": 32,
     "metadata": {},
     "output_type": "execute_result"
    }
   ],
   "source": [
    "# Label Encoding\n",
    "label_encoder = LabelEncoder()\n",
    "df_label_encoded = df.copy()\n",
    "df_label_encoded['Fruit'] = label_encoder.fit_transform(df['Fruit'])\n",
    "df_label_encoded['Color'] = label_encoder.fit_transform(df['Color'])\n",
    "\n",
    "print(\"\\nNach Label Encoding:\")\n",
    "df_label_encoded"
   ]
  },
  {
   "cell_type": "markdown",
   "id": "8bb93b68-ac13-490e-8f41-bceda5d46a27",
   "metadata": {},
   "source": [
    "### Target Encoding"
   ]
  },
  {
   "cell_type": "code",
   "execution_count": 33,
   "id": "2e5ff6ad-780c-40a6-b332-ac2b83663b57",
   "metadata": {},
   "outputs": [
    {
     "name": "stdout",
     "output_type": "stream",
     "text": [
      "\n",
      "Nach Target Encoding:\n",
      "      Fruit   Color  Tastes_Good\n",
      "0  0.656740     Red            1\n",
      "1  0.585815  Yellow            0\n",
      "2  0.521935  Orange            0\n",
      "3  0.656740   Green            1\n",
      "4  0.585815  Yellow            1\n"
     ]
    }
   ],
   "source": [
    "# Target Encoding für die Spalten 'Fruit' und 'Color' basierend auf der Zielvariable 'Target'\n",
    "target_encoder = TargetEncoder()\n",
    "df_target_encoded = df.copy()\n",
    "df_target_encoded[['Fruit']] = target_encoder.fit_transform(df[['Fruit']], df['Tastes_Good'])\n",
    "#df_target_encoded[['Color']] = target_encoder.fit_transform(df[['Color']], df['Tastes_Good'])\n",
    "\n",
    "print(\"\\nNach Target Encoding:\")\n",
    "print(df_target_encoded)"
   ]
  },
  {
   "cell_type": "code",
   "execution_count": 34,
   "id": "2868d12e-d79e-41e0-afcf-e7c8b9040142",
   "metadata": {},
   "outputs": [
    {
     "name": "stdout",
     "output_type": "stream",
     "text": [
      "\n",
      "Nach Target Encoding:\n",
      "   Fruit   Color  Tastes_Good\n",
      "0    1.0     Red            1\n",
      "1    0.5  Yellow            0\n",
      "2    0.3  Orange            0\n",
      "3    1.0   Green            1\n",
      "4    0.5  Yellow            1\n"
     ]
    }
   ],
   "source": [
    "target_encoder = TargetEncoder(smoothing=0.0001, min_samples_leaf=1)\n",
    "df_target_encoded = df.copy()\n",
    "df_target_encoded[['Fruit']] = target_encoder.fit_transform(df[['Fruit']], df['Tastes_Good'])\n",
    "#df_target_encoded[['Color']] = target_encoder.fit_transform(df[['Color']], df['Tastes_Good'])\n",
    "\n",
    "print(\"\\nNach Target Encoding:\")\n",
    "print(df_target_encoded)"
   ]
  },
  {
   "cell_type": "code",
   "execution_count": 35,
   "id": "7fcdeea0-8946-45db-9c17-3ca06f54cfcc",
   "metadata": {},
   "outputs": [
    {
     "name": "stdout",
     "output_type": "stream",
     "text": [
      "\n",
      "Direktes Target Encoding ohne Smoothing:\n",
      "    Fruit   Color  Tastes_Good  Fruit_Encoded  Color_Encoded\n",
      "0   Apple     Red            1            1.0            1.0\n",
      "1  Banana  Yellow            0            0.5            0.5\n",
      "2  Orange  Orange            0            0.0            0.0\n",
      "3   Apple   Green            1            1.0            1.0\n",
      "4  Banana  Yellow            1            0.5            0.5\n"
     ]
    }
   ],
   "source": [
    "# Direkter Durchschnitt ohne Smoothing\n",
    "df['Fruit_Encoded'] = df.groupby('Fruit')['Tastes_Good'].transform('mean')\n",
    "df['Color_Encoded'] = df.groupby('Color')['Tastes_Good'].transform('mean')\n",
    "print(\"\\nDirektes Target Encoding ohne Smoothing:\")\n",
    "print(df)"
   ]
  },
  {
   "cell_type": "markdown",
   "id": "cc9417a2-ae0c-4ebc-91ec-b8cbe66a9d54",
   "metadata": {},
   "source": [
    "### Kategorisch machen: Binning"
   ]
  },
  {
   "cell_type": "code",
   "execution_count": 36,
   "id": "ffcd3bd9-1aa2-400a-8ac9-2c9fdcb43a1d",
   "metadata": {},
   "outputs": [],
   "source": [
    "# Beispiel-Daten für Alter\n",
    "dat = pd.DataFrame({'Age': [15, 20, 25, 30, 35, 40, 45, 50, 55, 60]})"
   ]
  },
  {
   "cell_type": "markdown",
   "id": "0e2018fc-6e89-4d2c-acd7-d98352271fbb",
   "metadata": {},
   "source": [
    "#### Fixed Binning"
   ]
  },
  {
   "cell_type": "code",
   "execution_count": 37,
   "id": "599f31c9-9d11-43e3-abc3-5cb879b26460",
   "metadata": {},
   "outputs": [
    {
     "name": "stdout",
     "output_type": "stream",
     "text": [
      "Fixed Binning:\n"
     ]
    },
    {
     "data": {
      "text/html": [
       "<div>\n",
       "<style scoped>\n",
       "    .dataframe tbody tr th:only-of-type {\n",
       "        vertical-align: middle;\n",
       "    }\n",
       "\n",
       "    .dataframe tbody tr th {\n",
       "        vertical-align: top;\n",
       "    }\n",
       "\n",
       "    .dataframe thead th {\n",
       "        text-align: right;\n",
       "    }\n",
       "</style>\n",
       "<table border=\"1\" class=\"dataframe\">\n",
       "  <thead>\n",
       "    <tr style=\"text-align: right;\">\n",
       "      <th></th>\n",
       "      <th>Age</th>\n",
       "      <th>Age_Group_Fixed</th>\n",
       "    </tr>\n",
       "  </thead>\n",
       "  <tbody>\n",
       "    <tr>\n",
       "      <th>0</th>\n",
       "      <td>15</td>\n",
       "      <td>Child</td>\n",
       "    </tr>\n",
       "    <tr>\n",
       "      <th>1</th>\n",
       "      <td>20</td>\n",
       "      <td>Young Adult</td>\n",
       "    </tr>\n",
       "    <tr>\n",
       "      <th>2</th>\n",
       "      <td>25</td>\n",
       "      <td>Young Adult</td>\n",
       "    </tr>\n",
       "    <tr>\n",
       "      <th>3</th>\n",
       "      <td>30</td>\n",
       "      <td>Young Adult</td>\n",
       "    </tr>\n",
       "    <tr>\n",
       "      <th>4</th>\n",
       "      <td>35</td>\n",
       "      <td>Young Adult</td>\n",
       "    </tr>\n",
       "    <tr>\n",
       "      <th>5</th>\n",
       "      <td>40</td>\n",
       "      <td>Adult</td>\n",
       "    </tr>\n",
       "    <tr>\n",
       "      <th>6</th>\n",
       "      <td>45</td>\n",
       "      <td>Adult</td>\n",
       "    </tr>\n",
       "    <tr>\n",
       "      <th>7</th>\n",
       "      <td>50</td>\n",
       "      <td>Adult</td>\n",
       "    </tr>\n",
       "    <tr>\n",
       "      <th>8</th>\n",
       "      <td>55</td>\n",
       "      <td>Senior</td>\n",
       "    </tr>\n",
       "    <tr>\n",
       "      <th>9</th>\n",
       "      <td>60</td>\n",
       "      <td>Senior</td>\n",
       "    </tr>\n",
       "  </tbody>\n",
       "</table>\n",
       "</div>"
      ],
      "text/plain": [
       "   Age Age_Group_Fixed\n",
       "0   15           Child\n",
       "1   20     Young Adult\n",
       "2   25     Young Adult\n",
       "3   30     Young Adult\n",
       "4   35     Young Adult\n",
       "5   40           Adult\n",
       "6   45           Adult\n",
       "7   50           Adult\n",
       "8   55          Senior\n",
       "9   60          Senior"
      ]
     },
     "execution_count": 37,
     "metadata": {},
     "output_type": "execute_result"
    }
   ],
   "source": [
    "# Fixed Binning in Altersgruppen\n",
    "age_bins = [0, 18, 35, 50, 65]\n",
    "age_labels = ['Child', 'Young Adult', 'Adult', 'Senior']\n",
    "dat['Age_Group_Fixed'] = pd.cut(dat['Age'], bins=age_bins, labels=age_labels)\n",
    "\n",
    "print(\"Fixed Binning:\")\n",
    "dat"
   ]
  },
  {
   "cell_type": "markdown",
   "id": "443ded8f-a351-4b70-ad63-2727d0e3bcbc",
   "metadata": {},
   "source": [
    "#### Quantil-Binning"
   ]
  },
  {
   "cell_type": "code",
   "execution_count": 38,
   "id": "e2e66167-fcf9-4bfa-927d-78c32944f17d",
   "metadata": {},
   "outputs": [
    {
     "name": "stdout",
     "output_type": "stream",
     "text": [
      "\n",
      "Quantile Binning:\n"
     ]
    },
    {
     "data": {
      "text/html": [
       "<div>\n",
       "<style scoped>\n",
       "    .dataframe tbody tr th:only-of-type {\n",
       "        vertical-align: middle;\n",
       "    }\n",
       "\n",
       "    .dataframe tbody tr th {\n",
       "        vertical-align: top;\n",
       "    }\n",
       "\n",
       "    .dataframe thead th {\n",
       "        text-align: right;\n",
       "    }\n",
       "</style>\n",
       "<table border=\"1\" class=\"dataframe\">\n",
       "  <thead>\n",
       "    <tr style=\"text-align: right;\">\n",
       "      <th></th>\n",
       "      <th>Age</th>\n",
       "      <th>Age_Group_Fixed</th>\n",
       "      <th>Age_Group_Quantile</th>\n",
       "    </tr>\n",
       "  </thead>\n",
       "  <tbody>\n",
       "    <tr>\n",
       "      <th>0</th>\n",
       "      <td>15</td>\n",
       "      <td>Child</td>\n",
       "      <td>Q1</td>\n",
       "    </tr>\n",
       "    <tr>\n",
       "      <th>1</th>\n",
       "      <td>20</td>\n",
       "      <td>Young Adult</td>\n",
       "      <td>Q1</td>\n",
       "    </tr>\n",
       "    <tr>\n",
       "      <th>2</th>\n",
       "      <td>25</td>\n",
       "      <td>Young Adult</td>\n",
       "      <td>Q1</td>\n",
       "    </tr>\n",
       "    <tr>\n",
       "      <th>3</th>\n",
       "      <td>30</td>\n",
       "      <td>Young Adult</td>\n",
       "      <td>Q2</td>\n",
       "    </tr>\n",
       "    <tr>\n",
       "      <th>4</th>\n",
       "      <td>35</td>\n",
       "      <td>Young Adult</td>\n",
       "      <td>Q2</td>\n",
       "    </tr>\n",
       "    <tr>\n",
       "      <th>5</th>\n",
       "      <td>40</td>\n",
       "      <td>Adult</td>\n",
       "      <td>Q3</td>\n",
       "    </tr>\n",
       "    <tr>\n",
       "      <th>6</th>\n",
       "      <td>45</td>\n",
       "      <td>Adult</td>\n",
       "      <td>Q3</td>\n",
       "    </tr>\n",
       "    <tr>\n",
       "      <th>7</th>\n",
       "      <td>50</td>\n",
       "      <td>Adult</td>\n",
       "      <td>Q4</td>\n",
       "    </tr>\n",
       "    <tr>\n",
       "      <th>8</th>\n",
       "      <td>55</td>\n",
       "      <td>Senior</td>\n",
       "      <td>Q4</td>\n",
       "    </tr>\n",
       "    <tr>\n",
       "      <th>9</th>\n",
       "      <td>60</td>\n",
       "      <td>Senior</td>\n",
       "      <td>Q4</td>\n",
       "    </tr>\n",
       "  </tbody>\n",
       "</table>\n",
       "</div>"
      ],
      "text/plain": [
       "   Age Age_Group_Fixed Age_Group_Quantile\n",
       "0   15           Child                 Q1\n",
       "1   20     Young Adult                 Q1\n",
       "2   25     Young Adult                 Q1\n",
       "3   30     Young Adult                 Q2\n",
       "4   35     Young Adult                 Q2\n",
       "5   40           Adult                 Q3\n",
       "6   45           Adult                 Q3\n",
       "7   50           Adult                 Q4\n",
       "8   55          Senior                 Q4\n",
       "9   60          Senior                 Q4"
      ]
     },
     "execution_count": 38,
     "metadata": {},
     "output_type": "execute_result"
    }
   ],
   "source": [
    "# Quantile Binning in vier gleiche Gruppen\n",
    "dat['Age_Group_Quantile'] = pd.qcut(dat['Age'], q=4, labels=['Q1', 'Q2', 'Q3', 'Q4'])\n",
    "\n",
    "print(\"\\nQuantile Binning:\")\n",
    "dat"
   ]
  },
  {
   "cell_type": "markdown",
   "id": "9b7b5fd6-4873-47de-ae50-e596ff83ba6d",
   "metadata": {},
   "source": [
    "## 3. Ausreißer"
   ]
  },
  {
   "cell_type": "code",
   "execution_count": 39,
   "id": "3ca89fcb-123b-4001-b3ac-747c36812a8d",
   "metadata": {},
   "outputs": [],
   "source": [
    "# Erstellen eines größeren Beispieldatensatzes mit mehr Werten\n",
    "np.random.seed(0)  # Für Reproduzierbarkeit\n",
    "scores = np.random.normal(loc=50, scale=10, size=100).tolist()  # Normale Verteilung um 50 mit Streuung von 10\n",
    "scores += [120, 130, 500]  # Hinzufügen einiger Ausreißer\n",
    "\n",
    "dat = pd.DataFrame({'Score': scores})"
   ]
  },
  {
   "cell_type": "markdown",
   "id": "de8e7dd6-09dc-4591-a6a3-e32b853c024d",
   "metadata": {},
   "source": [
    "### Ausreißer identifizieren"
   ]
  },
  {
   "cell_type": "code",
   "execution_count": 40,
   "id": "2a283edb-0400-444d-8ef8-f600e1605d0a",
   "metadata": {},
   "outputs": [
    {
     "data": {
      "image/png": "[encoded data removed]",
      "text/plain": [
       "<Figure size 800x600 with 1 Axes>"
      ]
     },
     "metadata": {},
     "output_type": "display_data"
    }
   ],
   "source": [
    "# Boxplot plotten\n",
    "plt.figure(figsize=(8, 6))\n",
    "plt.boxplot(dat['Score'], vert=False)\n",
    "plt.title(\"Boxplot of Scores\")\n",
    "plt.xlabel(\"Score\")\n",
    "plt.show()"
   ]
  },
  {
   "cell_type": "code",
   "execution_count": 41,
   "id": "0dc3f4aa-91f6-44dd-89fc-ce63b2892b39",
   "metadata": {},
   "outputs": [],
   "source": [
    "# Berechnung des Interquartilsabstands (IQR)\n",
    "Q1 = dat['Score'].quantile(0.25)\n",
    "Q3 = dat['Score'].quantile(0.75)\n",
    "IQR = Q3 - Q1\n",
    "\n",
    "# Festlegung der Grenzen\n",
    "lower_bound = Q1 - 1.5 * IQR\n",
    "upper_bound = Q3 + 1.5 * IQR"
   ]
  },
  {
   "cell_type": "code",
   "execution_count": 42,
   "id": "02bd9662-9ddc-4dc0-97f0-560314807e0d",
   "metadata": {},
   "outputs": [
    {
     "name": "stdout",
     "output_type": "stream",
     "text": [
      "Ausreißer:\n",
      "      Score\n",
      "100  120.0\n",
      "101  130.0\n",
      "102  500.0\n"
     ]
    }
   ],
   "source": [
    "# Identifizierung der Ausreißer\n",
    "outliers = dat[(dat['Score'] < lower_bound) | (dat['Score'] > upper_bound)]\n",
    "print(\"Ausreißer:\\n\", outliers)"
   ]
  },
  {
   "cell_type": "markdown",
   "id": "7b182d21-8925-4d7e-88d1-3f0971e68b6f",
   "metadata": {},
   "source": [
    "### Entfernen der Ausreißer"
   ]
  },
  {
   "cell_type": "code",
   "execution_count": 43,
   "id": "bae00e92-0eb2-4585-8d4b-5bb5eabe5c8a",
   "metadata": {},
   "outputs": [],
   "source": [
    "# Entfernen von Ausreißern aus dem Datensatz\n",
    "dat_no_outliers = dat[(dat['Score'] >= lower_bound) & (dat['Score'] <= upper_bound)]"
   ]
  },
  {
   "cell_type": "code",
   "execution_count": 44,
   "id": "5ce235fc-9fed-4dc1-b44b-fefb16125a2c",
   "metadata": {},
   "outputs": [],
   "source": [
    "# Winsorizing: Deckelung der Werte auf die Grenzwerte\n",
    "dat['Score'] = dat['Score'].clip(lower_bound, upper_bound)"
   ]
  },
  {
   "cell_type": "code",
   "execution_count": 45,
   "id": "82f04cb6-1ab1-47b7-ab85-de2338c27e26",
   "metadata": {},
   "outputs": [
    {
     "data": {
      "image/png": "[encoded data removed]",
      "text/plain": [
       "<Figure size 800x600 with 1 Axes>"
      ]
     },
     "metadata": {},
     "output_type": "display_data"
    }
   ],
   "source": [
    "# Boxplot plotten\n",
    "plt.figure(figsize=(8, 6))\n",
    "plt.boxplot(dat['Score'], vert=False)\n",
    "plt.title(\"Boxplot of Scores\")\n",
    "plt.xlabel(\"Score\")\n",
    "plt.show()"
   ]
  },
  {
   "cell_type": "markdown",
   "id": "b22b6f40-0f3d-4e2a-9e8e-eb7809120c96",
   "metadata": {},
   "source": [
    "Anwendung auf Titanic Daten:"
   ]
  },
  {
   "cell_type": "code",
   "execution_count": 46,
   "id": "9bbbc0d2-f55a-4b46-9acd-3935c072462b",
   "metadata": {},
   "outputs": [
    {
     "data": {
      "image/png": "[encoded data removed]",
      "text/plain": [
       "<Figure size 1000x600 with 1 Axes>"
      ]
     },
     "metadata": {},
     "output_type": "display_data"
    }
   ],
   "source": [
    "# Boxplot für die Spalte 'Age'\n",
    "plt.figure(figsize=(10, 6))\n",
    "plt.boxplot(data['Age'].dropna(), vert=False)  # Nur gültige Alterswerte verwenden\n",
    "plt.title(\"Boxplot of Age in Titanic Dataset\")\n",
    "plt.xlabel(\"Age\")\n",
    "plt.show()"
   ]
  },
  {
   "cell_type": "markdown",
   "id": "787d173e-4c10-436d-91ff-8d20795f8485",
   "metadata": {},
   "source": [
    "Hier würde man offensichtlich nicht die \"Ausreißer\" laut Boxplot löschen."
   ]
  },
  {
   "cell_type": "markdown",
   "id": "c1f29759-2eed-45b3-a1c5-e5b9ac09f970",
   "metadata": {},
   "source": [
    "## 4. Transformation und Skalierung von Merkmalen"
   ]
  },
  {
   "cell_type": "code",
   "execution_count": 47,
   "id": "8adad22b-ad39-407a-be6e-087d0126ad7c",
   "metadata": {},
   "outputs": [
    {
     "data": {
      "image/png": "[encoded data removed]",
      "text/plain": [
       "<Figure size 1400x1200 with 6 Axes>"
      ]
     },
     "metadata": {},
     "output_type": "display_data"
    }
   ],
   "source": [
    "# Beispiel-Datensatz\n",
    "dat = pd.DataFrame({'Value': [1, 10, 100, 1000, 10000]})\n",
    "\n",
    "# Transformationen anwenden\n",
    "dat['Log'] = np.log(dat['Value'] + 1)            # Log-Transformation\n",
    "dat['Exp'] = np.exp(dat['Value'] / 10000)        # Exp-Transformation, skaliert für angemessene Werte\n",
    "dat['Sqrt'] = np.sqrt(dat['Value'])              # Quadratwurzel-Transformation\n",
    "dat['BoxCox'], _ = boxcox(dat['Value'] + 1)      # Box-Cox-Transformation (nur positive Werte)\n",
    "\n",
    "# Normalisierung (Standardisierung und Min-Max-Skalierung)\n",
    "scaler = StandardScaler()\n",
    "dat['Standardized'] = scaler.fit_transform(dat[['Value']])\n",
    "min_max_scaler = MinMaxScaler()\n",
    "dat['MinMax'] = min_max_scaler.fit_transform(dat[['Value']])\n",
    "\n",
    "# Plots erstellen\n",
    "fig, axes = plt.subplots(3, 2, figsize=(14, 12))\n",
    "fig.suptitle(\"Transformationen für den 'Value'-Datensatz\")\n",
    "\n",
    "# Original\n",
    "axes[0, 0].plot(dat['Value'], marker='o')\n",
    "axes[0, 0].set_title(\"Original Values\")\n",
    "\n",
    "# Log-Transformation\n",
    "axes[0, 1].plot(dat['Log'], marker='o')\n",
    "axes[0, 1].set_title(\"Log Transformation\")\n",
    "\n",
    "# Exp-Transformation\n",
    "axes[1, 0].plot(dat['Exp'], marker='o')\n",
    "axes[1, 0].set_title(\"Exp Transformation\")\n",
    "\n",
    "# Quadratwurzel-Transformation\n",
    "axes[1, 1].plot(dat['Sqrt'], marker='o')\n",
    "axes[1, 1].set_title(\"Square Root Transformation\")\n",
    "\n",
    "# Box-Cox-Transformation\n",
    "axes[2, 0].plot(dat['BoxCox'], marker='o')\n",
    "axes[2, 0].set_title(\"Box-Cox Transformation\")\n",
    "\n",
    "# Standardisierung und Min-Max-Skalierung zum Vergleich\n",
    "axes[2, 1].plot(dat['Standardized'], marker='o', label=\"Standardized\")\n",
    "axes[2, 1].plot(dat['MinMax'], marker='o', label=\"Min-Max\")\n",
    "axes[2, 1].legend()\n",
    "axes[2, 1].set_title(\"Standardized & Min-Max Scaling\")\n",
    "\n",
    "plt.tight_layout(rect=[0, 0.03, 1, 0.95])\n",
    "plt.show()\n"
   ]
  },
  {
   "cell_type": "markdown",
   "id": "6be2d05d-4a7a-4c96-bad6-16cd00c288da",
   "metadata": {},
   "source": [
    "## 5. Feature Selection"
   ]
  },
  {
   "cell_type": "markdown",
   "id": "67848505-983d-4799-8881-70b505edbe93",
   "metadata": {},
   "source": [
    "### Filter Methode: Korrelation"
   ]
  },
  {
   "cell_type": "code",
   "execution_count": 48,
   "id": "1cc31098-01b0-41ac-848f-2ec4c9f72917",
   "metadata": {},
   "outputs": [
    {
     "data": {
      "image/png": "[encoded data removed]",
      "text/plain": [
       "<Figure size 1000x800 with 2 Axes>"
      ]
     },
     "metadata": {},
     "output_type": "display_data"
    }
   ],
   "source": [
    "# Entfernen aller nicht-numerischen Spalten, um die Korrelationsmatrix berechnen zu können\n",
    "data_numeric = data.select_dtypes(include=[np.number])\n",
    "\n",
    "# Berechnen der Korrelationsmatrix\n",
    "corr_matrix = data_numeric.corr()\n",
    "\n",
    "# Anzeigen der gesamten Korrelationsmatrix\n",
    "plt.figure(figsize=(10, 8))\n",
    "sns.heatmap(corr_matrix, annot=True, cmap='coolwarm')\n",
    "plt.title(\"Korrelationsmatrix der Titanic-Features\")\n",
    "plt.show()"
   ]
  },
  {
   "cell_type": "code",
   "execution_count": 49,
   "id": "5b734611-70e3-4833-8031-c9910f0bcea5",
   "metadata": {},
   "outputs": [
    {
     "name": "stdout",
     "output_type": "stream",
     "text": [
      "Features mit hoher Korrelation zu 'Survived': ['Pclass', 'Fare']\n"
     ]
    }
   ],
   "source": [
    "# Auswahl der Features mit hoher Korrelation zur Zielvariable 'survived'\n",
    "# Wir setzen eine Schwelle von |0.1| als Beispiel\n",
    "target_corr = corr_matrix['Survived'].drop('Survived')  # 'survived' zu sich selbst ignorieren\n",
    "high_corr_features = target_corr[abs(target_corr) >= 0.1].index.tolist()\n",
    "\n",
    "print(\"Features mit hoher Korrelation zu 'Survived':\", high_corr_features)\n",
    "\n",
    "# Datensatz nur mit den ausgewählten Features und der Zielvariable\n",
    "X_corr_selected = data_numeric[high_corr_features]\n",
    "y_corr_selected = data_numeric['Survived']"
   ]
  },
  {
   "cell_type": "markdown",
   "id": "6e33ccb6-6418-47b1-8195-2737c53107f4",
   "metadata": {},
   "source": [
    "### Filter für kategorische Variablen: Chi-Quadrat"
   ]
  },
  {
   "cell_type": "code",
   "execution_count": 61,
   "id": "15c5a41d-919d-4e6b-89d9-ec63f16965f8",
   "metadata": {},
   "outputs": [
    {
     "name": "stdout",
     "output_type": "stream",
     "text": [
      "Chi-Square Scores and P-Values of Features:\n",
      "    Feature  Chi2 Score       P-Value\n",
      "0       Sex  258.426610  3.779910e-58\n",
      "1    Pclass  100.980407  1.181362e-22\n",
      "2     SibSp   37.741348  1.262014e-06\n",
      "3     Parch   28.400619  7.896497e-05\n",
      "4  Embarked   26.489150  1.769922e-06\n"
     ]
    }
   ],
   "source": [
    "# Bereiten wir eine Liste vor, die die Chi-Quadrat-Werte und die p-Werte enthält.\n",
    "chi2_scores = []\n",
    "\n",
    "# Berechnung der Chi-Quadrat-Werte für jedes Merkmal\n",
    "for feature in X.columns:\n",
    "    # Erstellen wir eine Kontingenztabelle\n",
    "    contingency_table = pd.crosstab(X[feature], y)\n",
    "    \n",
    "    # Chi-Quadrat-Test durchführen\n",
    "    chi2_stat, p, dof, expected = chi2_contingency(contingency_table)\n",
    "    \n",
    "    # Fügen wir den Namen des Merkmals, den Chi-Quadrat-Wert und den p-Wert an die Liste an.\n",
    "    chi2_scores.append((feature, chi2_stat, p))\n",
    "\n",
    "# Ergebnisse in einen DataFrame umwandeln\n",
    "chi2_results = pd.DataFrame(chi2_scores, columns=['Feature', 'Chi2 Score', 'P-Value'])\n",
    "\n",
    "# Sortieren nach Chi-Quadrat-Wert\n",
    "chi2_results = chi2_results.sort_values(by='Chi2 Score', ascending=False).reset_index(drop=True)\n",
    "\n",
    "print(\"Chi-Square Scores and P-Values of Features:\")\n",
    "print(chi2_results)"
   ]
  },
  {
   "cell_type": "markdown",
   "id": "f8f6d599-4611-44eb-be31-9d631559a125",
   "metadata": {},
   "source": [
    "### Wrapper: RFE"
   ]
  },
  {
   "cell_type": "code",
   "execution_count": 62,
   "id": "34a5887a-12d4-436f-9686-f9ba69f13d23",
   "metadata": {},
   "outputs": [
    {
     "name": "stdout",
     "output_type": "stream",
     "text": [
      "Ausgewählte Features mit RFE und Entscheidungsbaum: Index(['Pclass', 'Sex', 'Parch'], dtype='object')\n"
     ]
    }
   ],
   "source": [
    "# Nur relevante Spalten auswählen und nicht numerische Spalten in numerische Daten umwandeln\n",
    "data = data[['Survived', 'Pclass', 'Sex', 'SibSp', 'Parch', 'Embarked']]\n",
    "data = data.dropna()  # Zeilen mit fehlenden Werten entfernen\n",
    "\n",
    "# Kategorische Variablen kodieren (Label-Encoding)\n",
    "label_encoder = LabelEncoder()\n",
    "data['Sex'] = label_encoder.fit_transform(data['Sex'])\n",
    "data['Embarked'] = label_encoder.fit_transform(data['Embarked'])\n",
    "\n",
    "# Ziel- und Merkmalsdaten festlegen\n",
    "X = data.drop(columns=['Survived'])\n",
    "y = data['Survived']\n",
    "\n",
    "# RFE mit einem Entscheidungsbaum als Modell\n",
    "decision_tree = DecisionTreeClassifier()\n",
    "rfe_selector = RFE(estimator=decision_tree, n_features_to_select=3)  # Wähle die 3 besten Features\n",
    "X_rfe_selected = rfe_selector.fit_transform(X, y)\n",
    "\n",
    "# Anzeigen der ausgewählten Features\n",
    "selected_features = X.columns[rfe_selector.get_support()]\n",
    "print(\"Ausgewählte Features mit RFE und Entscheidungsbaum:\", selected_features)"
   ]
  },
  {
   "cell_type": "markdown",
   "id": "83eac99e-0b63-40ee-baa4-a5c97d244774",
   "metadata": {},
   "source": [
    "### Wrapper: Vorwärts- / Rückwärtselimination"
   ]
  },
  {
   "cell_type": "code",
   "execution_count": 63,
   "id": "2f6835aa-66ef-4f4c-aa99-bd13da0a8c77",
   "metadata": {},
   "outputs": [],
   "source": [
    "def forward_selection(X, y, model):\n",
    "    selected_features = []\n",
    "    best_score = 0\n",
    "\n",
    "    for _ in range(X.shape[1]):\n",
    "        scores_with_candidates = []\n",
    "        remaining_features = [f for f in X.columns if f not in selected_features]\n",
    "        \n",
    "        for feature in remaining_features:\n",
    "            candidate_features = selected_features + [feature]\n",
    "            score = cross_val_score(model, X[candidate_features], y, cv=5).mean()\n",
    "            scores_with_candidates.append((score, feature))\n",
    "        \n",
    "        scores_with_candidates.sort(reverse=True)\n",
    "        best_candidate_score, best_candidate = scores_with_candidates[0]\n",
    "        \n",
    "        if best_candidate_score > best_score:\n",
    "            selected_features.append(best_candidate)\n",
    "            best_score = best_candidate_score\n",
    "        else:\n",
    "            break\n",
    "    \n",
    "    return selected_features"
   ]
  },
  {
   "cell_type": "code",
   "execution_count": 64,
   "id": "2ea5af9c-dd1c-4b28-8355-e2423903c111",
   "metadata": {},
   "outputs": [
    {
     "name": "stdout",
     "output_type": "stream",
     "text": [
      "Ausgewählte Features (Vorwärtselimination): ['Sex', 'SibSp']\n"
     ]
    }
   ],
   "source": [
    "# Vorwärtselimination mit einem Entscheidungsbaum\n",
    "model = DecisionTreeClassifier()\n",
    "selected_features_forward = forward_selection(X, y, model)\n",
    "print(\"Ausgewählte Features (Vorwärtselimination):\", selected_features_forward)"
   ]
  },
  {
   "cell_type": "code",
   "execution_count": 65,
   "id": "997f0e00-f594-47da-ae82-32950e745935",
   "metadata": {},
   "outputs": [],
   "source": [
    "def backward_elimination(X, y, model):\n",
    "    selected_features = list(X.columns)\n",
    "    best_score = cross_val_score(model, X[selected_features], y, cv=5).mean()\n",
    "    \n",
    "    for _ in range(len(selected_features) - 1):\n",
    "        scores_with_candidates = []\n",
    "        \n",
    "        for feature in selected_features:\n",
    "            candidate_features = [f for f in selected_features if f != feature]\n",
    "            score = cross_val_score(model, X[candidate_features], y, cv=5).mean()\n",
    "            scores_with_candidates.append((score, feature))\n",
    "        \n",
    "        scores_with_candidates.sort(reverse=True)\n",
    "        best_candidate_score, worst_feature = scores_with_candidates[0]\n",
    "        \n",
    "        if best_candidate_score >= best_score:\n",
    "            selected_features.remove(worst_feature)\n",
    "            best_score = best_candidate_score\n",
    "        else:\n",
    "            break\n",
    "    \n",
    "    return selected_features"
   ]
  },
  {
   "cell_type": "code",
   "execution_count": 66,
   "id": "f163253f-9dec-4ec6-a919-aff0a9699132",
   "metadata": {},
   "outputs": [
    {
     "name": "stdout",
     "output_type": "stream",
     "text": [
      "Ausgewählte Features (Rückwärtselimination): ['Pclass', 'Sex', 'Embarked']\n"
     ]
    }
   ],
   "source": [
    "# Rückwärtselimination mit einem Entscheidungsbaum\n",
    "selected_features_backward = backward_elimination(X, y, model)\n",
    "print(\"Ausgewählte Features (Rückwärtselimination):\", selected_features_backward)"
   ]
  },
  {
   "cell_type": "code",
   "execution_count": null,
   "id": "16291e8d-8329-4cc8-84d1-2e7893cfdf5f",
   "metadata": {},
   "outputs": [],
   "source": []
  }
 ],
 "metadata": {
  "kernelspec": {
   "display_name": "Python (stamo24)",
   "language": "python",
   "name": "stamo24"
  },
  "language_info": {
   "codemirror_mode": {
    "name": "ipython",
    "version": 3
   },
   "file_extension": ".py",
   "mimetype": "text/x-python",
   "name": "python",
   "nbconvert_exporter": "python",
   "pygments_lexer": "ipython3",
   "version": "3.12.2"
  }
 },
 "nbformat": 4,
 "nbformat_minor": 5
}
